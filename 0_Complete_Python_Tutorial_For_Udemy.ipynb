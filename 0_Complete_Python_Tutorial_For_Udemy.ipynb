{
  "nbformat": 4,
  "nbformat_minor": 0,
  "metadata": {
    "colab": {
      "name": "0 -Complete_Python_Tutorial_For_Udemy.ipynb",
      "provenance": [],
      "collapsed_sections": [
        "t8KdAslcf1H5",
        "SWT_PWJcpOsV",
        "fHSsArtBtZOg",
        "kCbZltl3bsgl",
        "5edec6aJu3jc",
        "YEc0gFxIeUiw",
        "hRp_o68dq1Hv",
        "EvFEir9AviXd",
        "cS2BzhZd17gm",
        "XgvMeuN18Go3",
        "FW_A-TYyBork",
        "gGmoZ5jCDVuf",
        "sS1hfzqBEokE",
        "MSgC2KsLHvPw",
        "CYLWbXnb8iS-",
        "iMu_RoDpUCU5",
        "7pkmukj4dpem",
        "YXvyT-DfkI6S",
        "23axBoe2AXZ9",
        "BF2jcswHb70f",
        "5iH99CeJkXEw",
        "j2Tn0zzDNMT9",
        "no_A0fTyUyYm"
      ],
      "include_colab_link": true
    },
    "kernelspec": {
      "name": "python3",
      "display_name": "Python 3"
    }
  },
  "cells": [
    {
      "cell_type": "markdown",
      "metadata": {
        "id": "view-in-github",
        "colab_type": "text"
      },
      "source": [
        "<a href=\"https://colab.research.google.com/github/pratikwagh007/c-assignments/blob/master/0_Complete_Python_Tutorial_For_Udemy.ipynb\" target=\"_parent\"><img src=\"https://colab.research.google.com/assets/colab-badge.svg\" alt=\"Open In Colab\"/></a>"
      ]
    },
    {
      "cell_type": "markdown",
      "metadata": {
        "id": "89UsAkDic5GI",
        "colab_type": "text"
      },
      "source": [
        "# Python data types and Simple Operations"
      ]
    },
    {
      "cell_type": "code",
      "metadata": {
        "id": "biGckeWI9rjP",
        "colab_type": "code",
        "colab": {}
      },
      "source": [
        ""
      ],
      "execution_count": 0,
      "outputs": []
    },
    {
      "cell_type": "markdown",
      "metadata": {
        "id": "Kg9gufzdo_cE",
        "colab_type": "text"
      },
      "source": [
        "Following are python data type\n",
        "\n",
        "* Number\n",
        "* String\n",
        "* Boolean \n",
        "* List\n",
        "* Tuple\n",
        "\n",
        "* Dictionary\n",
        "\n",
        "\n",
        "\n"
      ]
    },
    {
      "cell_type": "code",
      "metadata": {
        "id": "yB1cqKLgfFPd",
        "colab_type": "code",
        "outputId": "d8eb11e4-b9c8-44ad-cafc-c197e0225191",
        "colab": {
          "base_uri": "https://localhost:8080/",
          "height": 51
        }
      },
      "source": [
        "# Python sets the data type based on variable assigned to it\n",
        "\n",
        "data = 500  #  The data is a number. data is to be seen as a variable\n",
        "\n",
        "print(data)\n",
        "\n",
        "data = 'I am a string jupiter now' # the data is a string now\n",
        "print(data)\n",
        "\n"
      ],
      "execution_count": 3,
      "outputs": [
        {
          "output_type": "stream",
          "text": [
            "500\n",
            "I am a string jupiter now\n"
          ],
          "name": "stdout"
        }
      ]
    },
    {
      "cell_type": "code",
      "metadata": {
        "id": "ehWAlkGJkFMT",
        "colab_type": "code",
        "colab": {}
      },
      "source": [
        "# The only characters in variables are letters, numbers and underscores\n",
        "# variables cannot start with numbers.\n",
        "\n",
        "this_is_valid_variable = 2\n",
        "\n",
        "# 123_variable = 3  # invalid variable\n",
        "# 123-variable = 3   # invalid variable\n",
        "\n",
        "\n",
        "# python is case sensitive new_variable and New_variable are two different variables\n",
        "\n",
        "new_variable = 2\n",
        "New_variable = 3\n",
        "\n",
        "\n",
        "\n",
        "\n",
        "\n",
        "\n",
        "\n"
      ],
      "execution_count": 0,
      "outputs": []
    },
    {
      "cell_type": "markdown",
      "metadata": {
        "id": "2Nv7HVWLISFz",
        "colab_type": "text"
      },
      "source": [
        "**int (plain integers**):  integers are just positive or negative whole numbers.\n",
        "\n",
        "**long (long integers)**: long integers are integers of infinite size. \n",
        "\n",
        "In Python 3 int and long have been merged. We only need to use int data type.\n",
        "\n",
        "\n",
        "\n",
        "**float (floating point real values)**: floats represent real numbers, but are written with decimal points (or scientific notaion) to divide the whole number into fractional parts. \n",
        "\n",
        "**complex (complex numbers)**: represented by the formula a + bJ, where a and b are floats, and J is the square root of -1 (the result of which is an imaginary number). Complex numbers are used sparingly in Python. \n"
      ]
    },
    {
      "cell_type": "code",
      "metadata": {
        "id": "_G5ehI7Of_JI",
        "colab_type": "code",
        "outputId": "fdfd7aa8-14eb-49d4-f610-2cfbe279379b",
        "colab": {
          "base_uri": "https://localhost:8080/",
          "height": 119
        }
      },
      "source": [
        "# Python Number Data Type\n",
        "\n",
        "\n",
        "a = 100  # A int datatype\n",
        "\n",
        "print (type(a))\n",
        "\n",
        "a = 2**123  # A long integer\n",
        "print (a)\n",
        "print (type(a))\n",
        "\n",
        "print ('Type of a is {}'.format(type(a)))\n",
        "\n",
        "a = 97.32 # A float value\n",
        "print ('Type of a is {}'.format(type(a)))\n",
        "\n",
        "a =3.14j  # A complex number\n",
        "print ('Type of a is {}'.format(type(a)))\n",
        "\n"
      ],
      "execution_count": 0,
      "outputs": [
        {
          "output_type": "stream",
          "text": [
            "<class 'int'>\n",
            "10633823966279326983230456482242756608\n",
            "<class 'int'>\n",
            "Type of a is <class 'int'>\n",
            "Type of a is <class 'float'>\n",
            "Type of a is <class 'complex'>\n"
          ],
          "name": "stdout"
        }
      ]
    },
    {
      "cell_type": "code",
      "metadata": {
        "id": "1cB8kZXXil8f",
        "colab_type": "code",
        "colab": {}
      },
      "source": [
        ""
      ],
      "execution_count": 0,
      "outputs": []
    },
    {
      "cell_type": "code",
      "metadata": {
        "id": "tn6XONt0kK98",
        "colab_type": "code",
        "outputId": "b5fabdcb-2ccb-47f5-d65b-a2820a61a661",
        "colab": {
          "base_uri": "https://localhost:8080/",
          "height": 136
        }
      },
      "source": [
        "# Simple mathematical operations\n",
        "\n",
        "\n",
        "a = 2\n",
        "b = 3\n",
        "\n",
        "c = a+b\n",
        "print ('The sum is',c)\n",
        "\n",
        "print ('\\nAdding 2+3 = {}'.format(a+b)) # addition of numbers\n",
        "\n",
        "print ('\\n***Adding {}+{} = {}'.format(a,b,a+b)) # addition of numbers\n",
        "\n",
        "print ('\\n===Adding ',a,\"+\",b, \"=\", a+b) # addition of numbers\n",
        "\n"
      ],
      "execution_count": 0,
      "outputs": [
        {
          "output_type": "stream",
          "text": [
            "The sum is 5\n",
            "\n",
            "Adding 2+3 = 5\n",
            "\n",
            "***Adding 2+3 = 5\n",
            "\n",
            "===Adding  2 + 3 = 5\n"
          ],
          "name": "stdout"
        }
      ]
    },
    {
      "cell_type": "code",
      "metadata": {
        "id": "sKF8_Q8MpH_y",
        "colab_type": "code",
        "outputId": "cf9bce24-18ef-4c09-a529-564cbf2523da",
        "colab": {
          "base_uri": "https://localhost:8080/",
          "height": 68
        }
      },
      "source": [
        "a = 2.2   \n",
        "b = 1\n",
        "\n",
        "print ('\\nAdding 2.2+1 = {}'.format(a+b)) # addition of float and number. The result is float\n",
        "\n",
        "x = a+b\n",
        "print(type(x))"
      ],
      "execution_count": 0,
      "outputs": [
        {
          "output_type": "stream",
          "text": [
            "\n",
            "Adding 2.2+1 = 3.2\n",
            "<class 'float'>\n"
          ],
          "name": "stdout"
        }
      ]
    },
    {
      "cell_type": "code",
      "metadata": {
        "id": "GV0_ay4ypOKQ",
        "colab_type": "code",
        "outputId": "d83d6854-a738-4ace-beae-8745cf8b3b28",
        "colab": {
          "base_uri": "https://localhost:8080/",
          "height": 51
        }
      },
      "source": [
        "a = 2\n",
        "b = 3\n",
        "\n",
        "print ('\\nMultiplying 2*3= {}'.format(a*b)) # Multiplication of two numbers"
      ],
      "execution_count": 0,
      "outputs": [
        {
          "output_type": "stream",
          "text": [
            "\n",
            "Multiplying 2*3= 6\n"
          ],
          "name": "stdout"
        }
      ]
    },
    {
      "cell_type": "code",
      "metadata": {
        "id": "ydC0YTeApRp7",
        "colab_type": "code",
        "outputId": "e0400349-fe76-4c34-fe43-a0493c94d69b",
        "colab": {
          "base_uri": "https://localhost:8080/",
          "height": 119
        }
      },
      "source": [
        "\n",
        "a = 2\n",
        "b = 5\n",
        "\n",
        "print ('\\nDivision  5/2= {}'.format(b/a)) # Divisions of two numbers\n",
        "print ('\\nQuotient  5//2= {}'.format(b//a)) # Getting quotient from division of two numbers\n",
        "print ('\\nRemainder 5 % 2= {}'.format(b%a)) # Getting Remainder from division of two numbers\n",
        "\n"
      ],
      "execution_count": 0,
      "outputs": [
        {
          "output_type": "stream",
          "text": [
            "\n",
            "Division  5/2= 2.5\n",
            "\n",
            "Quotient  5//2= 2\n",
            "\n",
            "Remainder 5 % 2= 1\n"
          ],
          "name": "stdout"
        }
      ]
    },
    {
      "cell_type": "code",
      "metadata": {
        "id": "CdO5pMsrpXm2",
        "colab_type": "code",
        "outputId": "f609ff6d-34b5-4ef8-886e-5bff20ccb785",
        "colab": {
          "base_uri": "https://localhost:8080/",
          "height": 51
        }
      },
      "source": [
        "\n",
        "a = 5\n",
        "b = 6\n",
        "\n",
        "\n",
        "print ('\\nExponential {}**{}= {}'.format(a,b,a**b)) # Exponential of two numbers\n",
        "\n",
        "\n",
        "\n",
        "\n"
      ],
      "execution_count": 0,
      "outputs": [
        {
          "output_type": "stream",
          "text": [
            "\n",
            "Exponential 5**6= 15625\n"
          ],
          "name": "stdout"
        }
      ]
    },
    {
      "cell_type": "code",
      "metadata": {
        "id": "3CJaz4xGmQPL",
        "colab_type": "code",
        "outputId": "6f8e6648-6baf-4ddd-a789-3a3789d9c693",
        "colab": {
          "base_uri": "https://localhost:8080/",
          "height": 34
        }
      },
      "source": [
        "# inplace operators\n",
        "\n",
        "data = 2\n",
        "data +=3   # Equivalent to data = data + 3\n",
        "print (data)"
      ],
      "execution_count": 0,
      "outputs": [
        {
          "output_type": "stream",
          "text": [
            "5\n"
          ],
          "name": "stdout"
        }
      ]
    },
    {
      "cell_type": "markdown",
      "metadata": {
        "id": "DHi-e8kvdV57",
        "colab_type": "text"
      },
      "source": [
        "# Python Strings"
      ]
    },
    {
      "cell_type": "code",
      "metadata": {
        "id": "0i_9sq8_hzvn",
        "colab_type": "code",
        "outputId": "1d5bac28-c0db-44a7-f193-60f0b543eb96",
        "colab": {
          "base_uri": "https://localhost:8080/",
          "height": 187
        }
      },
      "source": [
        "# String data type\n",
        "\n",
        "# Strings can be created using single quote ', double quotes '' or triple quotes \"\"\" \"\"\"\n",
        "\n",
        "first_name = 'Vishal'\n",
        "print (first_name)\n",
        "last_name = \"Singh\"\n",
        "print (last_name)\n",
        "\n",
        "print ('\\n')\n",
        "\n",
        "long_message = \"\"\" This is a long message which will span multiple lines \n",
        "by pressing enter.\n",
        "\n",
        "Line 1  =\n",
        "Line 2  \n",
        "                \"\"\"\n",
        "print (long_message)"
      ],
      "execution_count": 0,
      "outputs": [
        {
          "output_type": "stream",
          "text": [
            "Vishal\n",
            "Singh\n",
            "\n",
            "\n",
            " This is a long message which will span multiple lines \n",
            "by pressing enter.\n",
            "\n",
            "Line 1  =\n",
            "Line 2  \n",
            "                \n"
          ],
          "name": "stdout"
        }
      ]
    },
    {
      "cell_type": "code",
      "metadata": {
        "id": "RQChZDL9iAMn",
        "colab_type": "code",
        "colab": {}
      },
      "source": [
        ""
      ],
      "execution_count": 0,
      "outputs": []
    },
    {
      "cell_type": "code",
      "metadata": {
        "id": "mClzl1tsjCP5",
        "colab_type": "code",
        "outputId": "dc8880e1-b2b4-4ede-dd04-4a25895e99b5",
        "colab": {
          "base_uri": "https://localhost:8080/",
          "height": 153
        }
      },
      "source": [
        "# Strings can be accessed as whole Strings or as a Substring\n",
        "\n",
        "var1 = 'Python Language'\n",
        "\n",
        "print (var1)\n",
        "\n",
        "print (var1[0])\n",
        "\n",
        "\n",
        "print (var1[0:3]) #prints character from position 0 to 2\n",
        "\n",
        "print('Last Position is',var1[-2])  # last position is -1\n",
        "\n",
        "print(\"****\")\n",
        "print (var1[-3:-1]) #prints character from position -3 to last minus 1\n",
        "\n",
        "print( var1[-3:])\n",
        "\n",
        "print( var1[:])\n",
        "\n"
      ],
      "execution_count": 0,
      "outputs": [
        {
          "output_type": "stream",
          "text": [
            "Python Language\n",
            "P\n",
            "Pyt\n",
            "Last Position is g\n",
            "****\n",
            "ag\n",
            "age\n",
            "Python Language\n"
          ],
          "name": "stdout"
        }
      ]
    },
    {
      "cell_type": "code",
      "metadata": {
        "id": "Fnu6yhSOdqh7",
        "colab_type": "code",
        "outputId": "1b698eaa-a011-4d82-eb53-f58496ddd9e0",
        "colab": {
          "base_uri": "https://localhost:8080/",
          "height": 129
        }
      },
      "source": [
        "# As single quote and double quotes are used to mark a string we need to use a \n",
        "# special way if we want to use them in string. This process is known as escaping\n",
        "\n",
        "# This is done by placing a backslash character in front of them\n",
        "\n",
        "\n",
        "\n",
        "\n",
        "str = \"\"\"Vishal's house is in Mumbai\"\"\"\n",
        "print (str)\n",
        "\n",
        "str = \"This is very \\\"exciting\\\"   '\n",
        "print (str)\n"
      ],
      "execution_count": 0,
      "outputs": [
        {
          "output_type": "error",
          "ename": "SyntaxError",
          "evalue": "ignored",
          "traceback": [
            "\u001b[0;36m  File \u001b[0;32m\"<ipython-input-10-5813a505b591>\"\u001b[0;36m, line \u001b[0;32m8\u001b[0m\n\u001b[0;31m    str = \"This is very \\\"exciting\\\"   '\u001b[0m\n\u001b[0m                                        ^\u001b[0m\n\u001b[0;31mSyntaxError\u001b[0m\u001b[0;31m:\u001b[0m EOL while scanning string literal\n"
          ]
        }
      ]
    },
    {
      "cell_type": "code",
      "metadata": {
        "id": "vlOvc5o1gV1Z",
        "colab_type": "code",
        "outputId": "26d4a516-069a-4443-a58c-217a29a4e3aa",
        "colab": {
          "base_uri": "https://localhost:8080/",
          "height": 51
        }
      },
      "source": [
        "# String Concatenation\n",
        "\n",
        "new_string = 'Hello '+'World'\n",
        "print(new_string)\n",
        "\n",
        "new_string = 'Hello '+\"World\"  # Does not matter if string is created with a single or double quote\n",
        "print(new_string)\n"
      ],
      "execution_count": 0,
      "outputs": [
        {
          "output_type": "stream",
          "text": [
            "Hello World\n",
            "Hello World\n"
          ],
          "name": "stdout"
        }
      ]
    },
    {
      "cell_type": "code",
      "metadata": {
        "id": "jPKzn-9gg49V",
        "colab_type": "code",
        "outputId": "a21ec543-22c3-460e-d329-4866ceb1ba2b",
        "colab": {
          "base_uri": "https://localhost:8080/",
          "height": 231
        }
      },
      "source": [
        "new_string = '2'+'3'\n",
        "print(new_string)  # sees string as character.\n",
        "\n",
        "\n",
        "new_string = '2'+ 3 # one cannot mix data types\n",
        "print(new_string)\n"
      ],
      "execution_count": 0,
      "outputs": [
        {
          "output_type": "stream",
          "text": [
            "23\n"
          ],
          "name": "stdout"
        },
        {
          "output_type": "error",
          "ename": "TypeError",
          "evalue": "ignored",
          "traceback": [
            "\u001b[0;31m---------------------------------------------------------------------------\u001b[0m",
            "\u001b[0;31mTypeError\u001b[0m                                 Traceback (most recent call last)",
            "\u001b[0;32m<ipython-input-26-758cda03929a>\u001b[0m in \u001b[0;36m<module>\u001b[0;34m()\u001b[0m\n\u001b[1;32m      3\u001b[0m \u001b[0;34m\u001b[0m\u001b[0m\n\u001b[1;32m      4\u001b[0m \u001b[0;34m\u001b[0m\u001b[0m\n\u001b[0;32m----> 5\u001b[0;31m \u001b[0mnew_string\u001b[0m \u001b[0;34m=\u001b[0m \u001b[0;34m'2'\u001b[0m\u001b[0;34m+\u001b[0m \u001b[0;36m3\u001b[0m \u001b[0;31m# one cannot mix data types\u001b[0m\u001b[0;34m\u001b[0m\u001b[0;34m\u001b[0m\u001b[0m\n\u001b[0m\u001b[1;32m      6\u001b[0m \u001b[0mprint\u001b[0m\u001b[0;34m(\u001b[0m\u001b[0mnew_string\u001b[0m\u001b[0;34m)\u001b[0m\u001b[0;34m\u001b[0m\u001b[0;34m\u001b[0m\u001b[0m\n",
            "\u001b[0;31mTypeError\u001b[0m: must be str, not int"
          ]
        }
      ]
    },
    {
      "cell_type": "code",
      "metadata": {
        "id": "BbSlcfubhYC5",
        "colab_type": "code",
        "outputId": "014753cd-a4ed-47b8-a333-a1b0cc956f6d",
        "colab": {
          "base_uri": "https://localhost:8080/",
          "height": 231
        }
      },
      "source": [
        "#multiplication of strings\n",
        "\n",
        "str = \"data \"*3\n",
        "print (str)\n",
        "\n",
        "str = \"4\"*3\n",
        "print (str)\n",
        "\n",
        "str = \"data\"* 3.2"
      ],
      "execution_count": 0,
      "outputs": [
        {
          "output_type": "stream",
          "text": [
            "data data data \n",
            "444\n"
          ],
          "name": "stdout"
        },
        {
          "output_type": "error",
          "ename": "TypeError",
          "evalue": "ignored",
          "traceback": [
            "\u001b[0;31m---------------------------------------------------------------------------\u001b[0m",
            "\u001b[0;31mTypeError\u001b[0m                                 Traceback (most recent call last)",
            "\u001b[0;32m<ipython-input-27-2acfccdc2ff3>\u001b[0m in \u001b[0;36m<module>\u001b[0;34m()\u001b[0m\n\u001b[1;32m      6\u001b[0m \u001b[0mprint\u001b[0m \u001b[0;34m(\u001b[0m\u001b[0mstr\u001b[0m\u001b[0;34m)\u001b[0m\u001b[0;34m\u001b[0m\u001b[0;34m\u001b[0m\u001b[0m\n\u001b[1;32m      7\u001b[0m \u001b[0;34m\u001b[0m\u001b[0m\n\u001b[0;32m----> 8\u001b[0;31m \u001b[0mstr\u001b[0m \u001b[0;34m=\u001b[0m \u001b[0;34m\"data\"\u001b[0m\u001b[0;34m*\u001b[0m \u001b[0;36m3.2\u001b[0m\u001b[0;34m\u001b[0m\u001b[0;34m\u001b[0m\u001b[0m\n\u001b[0m",
            "\u001b[0;31mTypeError\u001b[0m: can't multiply sequence by non-int of type 'float'"
          ]
        }
      ]
    },
    {
      "cell_type": "code",
      "metadata": {
        "id": "uAeuNMA1h6ji",
        "colab_type": "code",
        "colab": {}
      },
      "source": [
        "# Converting string to different data types\n",
        "\n",
        "str = '2' +'3'\n",
        "print (str)\n",
        "\n",
        "data = int('2') +int('3')\n",
        "print (data)\n",
        "\n",
        "print (type(data))\n",
        "\n",
        "\n",
        "\n",
        "\n"
      ],
      "execution_count": 0,
      "outputs": []
    },
    {
      "cell_type": "markdown",
      "metadata": {
        "id": "t8KdAslcf1H5",
        "colab_type": "text"
      },
      "source": [
        "# Taking Inputs"
      ]
    },
    {
      "cell_type": "code",
      "metadata": {
        "id": "qnv4cA32f-Ma",
        "colab_type": "code",
        "outputId": "c407089b-879d-4a46-a249-29f6761c9447",
        "colab": {
          "base_uri": "https://localhost:8080/",
          "height": 231
        }
      },
      "source": [
        "# To take an input from user the function input is used\n",
        "\n",
        "\n",
        "data = input(\"Enter a number\")\n",
        "print (data)\n",
        "print (type(data))"
      ],
      "execution_count": 0,
      "outputs": [
        {
          "output_type": "error",
          "ename": "ValueError",
          "evalue": "ignored",
          "traceback": [
            "\u001b[0;31m---------------------------------------------------------------------------\u001b[0m",
            "\u001b[0;31mValueError\u001b[0m                                Traceback (most recent call last)",
            "\u001b[0;32m<ipython-input-13-1ee6efaff297>\u001b[0m in \u001b[0;36m<module>\u001b[0;34m()\u001b[0m\n\u001b[0;32m----> 1\u001b[0;31m \u001b[0mdata\u001b[0m \u001b[0;34m=\u001b[0m \u001b[0minput\u001b[0m\u001b[0;34m(\u001b[0m\u001b[0mint\u001b[0m\u001b[0;34m(\u001b[0m\u001b[0;34m\"Enter a number\"\u001b[0m\u001b[0;34m)\u001b[0m\u001b[0;34m)\u001b[0m\u001b[0;34m\u001b[0m\u001b[0;34m\u001b[0m\u001b[0m\n\u001b[0m\u001b[1;32m      2\u001b[0m \u001b[0;34m\u001b[0m\u001b[0m\n\u001b[1;32m      3\u001b[0m \u001b[0;31m#data = input(\"Enter a number\")\u001b[0m\u001b[0;34m\u001b[0m\u001b[0;34m\u001b[0m\u001b[0;34m\u001b[0m\u001b[0m\n\u001b[1;32m      4\u001b[0m \u001b[0mprint\u001b[0m \u001b[0;34m(\u001b[0m\u001b[0mdata\u001b[0m\u001b[0;34m)\u001b[0m\u001b[0;34m\u001b[0m\u001b[0;34m\u001b[0m\u001b[0m\n\u001b[1;32m      5\u001b[0m \u001b[0mprint\u001b[0m \u001b[0;34m(\u001b[0m\u001b[0mtype\u001b[0m\u001b[0;34m(\u001b[0m\u001b[0mdata\u001b[0m\u001b[0;34m)\u001b[0m\u001b[0;34m)\u001b[0m\u001b[0;34m\u001b[0m\u001b[0;34m\u001b[0m\u001b[0m\n",
            "\u001b[0;31mValueError\u001b[0m: invalid literal for int() with base 10: 'Enter a number'"
          ]
        }
      ]
    },
    {
      "cell_type": "code",
      "metadata": {
        "id": "Jpc8kXO-ih9S",
        "colab_type": "code",
        "outputId": "240101d5-504e-4191-bc1e-067e6ac552e7",
        "colab": {
          "base_uri": "https://localhost:8080/",
          "height": 85
        }
      },
      "source": [
        "int_data_one = int(input(\"Enter a number \"))\n",
        "int_data_two = int(input(\"Enter a number \"))\n",
        "\n",
        "print ('The type of int_data_one and int_data_two is {} {}'.format(type(int_data_one), type(int_data_one) ))\n",
        "\n",
        "print ('The sum is {}'.format(int_data_one + int_data_two))\n"
      ],
      "execution_count": 0,
      "outputs": [
        {
          "output_type": "stream",
          "text": [
            "Enter a number 1\n",
            "Enter a number 2\n",
            "The type of int_data_one and int_data_two is <class 'int'> \n",
            "The sum is 3\n"
          ],
          "name": "stdout"
        }
      ]
    },
    {
      "cell_type": "code",
      "metadata": {
        "id": "FOSMp88CliI1",
        "colab_type": "code",
        "outputId": "315d222f-8f20-41d0-8be0-3cdf7d70f852",
        "colab": {
          "base_uri": "https://localhost:8080/",
          "height": 214
        }
      },
      "source": [
        "# Assigning variables\n",
        "\n",
        "data = \"I am alive\"\n",
        "print (data)\n",
        "\n",
        "# y\n",
        "# print(y)\n",
        "\n",
        "del data\n",
        "print (data)"
      ],
      "execution_count": 0,
      "outputs": [
        {
          "output_type": "stream",
          "text": [
            "I am alive\n"
          ],
          "name": "stdout"
        },
        {
          "output_type": "error",
          "ename": "NameError",
          "evalue": "ignored",
          "traceback": [
            "\u001b[0;31m---------------------------------------------------------------------------\u001b[0m",
            "\u001b[0;31mNameError\u001b[0m                                 Traceback (most recent call last)",
            "\u001b[0;32m<ipython-input-18-9d621335be45>\u001b[0m in \u001b[0;36m<module>\u001b[0;34m()\u001b[0m\n\u001b[1;32m      7\u001b[0m \u001b[0;34m\u001b[0m\u001b[0m\n\u001b[1;32m      8\u001b[0m \u001b[0;32mdel\u001b[0m \u001b[0mdata\u001b[0m\u001b[0;34m\u001b[0m\u001b[0;34m\u001b[0m\u001b[0m\n\u001b[0;32m----> 9\u001b[0;31m \u001b[0mprint\u001b[0m \u001b[0;34m(\u001b[0m\u001b[0mdata\u001b[0m\u001b[0;34m)\u001b[0m\u001b[0;34m\u001b[0m\u001b[0;34m\u001b[0m\u001b[0m\n\u001b[0m",
            "\u001b[0;31mNameError\u001b[0m: name 'data' is not defined"
          ]
        }
      ]
    },
    {
      "cell_type": "markdown",
      "metadata": {
        "id": "SWT_PWJcpOsV",
        "colab_type": "text"
      },
      "source": [
        "# Python Boolean"
      ]
    },
    {
      "cell_type": "code",
      "metadata": {
        "id": "zkqk_jfypYBb",
        "colab_type": "code",
        "outputId": "6c653bfd-d535-4543-d1d2-29063d1588bc",
        "colab": {
          "base_uri": "https://localhost:8080/",
          "height": 85
        }
      },
      "source": [
        "# There are two Python Boolean values True and False\n",
        "\n",
        "boolean_data = True\n",
        "print (boolean_data)\n",
        "print (type(boolean_data))\n",
        "\n",
        "boolean_data = False\n",
        "print (boolean_data)\n",
        "print (type(boolean_data))"
      ],
      "execution_count": 0,
      "outputs": [
        {
          "output_type": "stream",
          "text": [
            "True\n",
            "<class 'bool'>\n",
            "False\n",
            "<class 'bool'>\n"
          ],
          "name": "stdout"
        }
      ]
    },
    {
      "cell_type": "code",
      "metadata": {
        "id": "4RIjHexJqCCp",
        "colab_type": "code",
        "outputId": "86dd5f58-4e13-491f-ed62-9fb39c53969d",
        "colab": {
          "base_uri": "https://localhost:8080/",
          "height": 34
        }
      },
      "source": [
        "# for comparison we use the equal operator ==\n",
        "print (5 == 7)"
      ],
      "execution_count": 0,
      "outputs": [
        {
          "output_type": "stream",
          "text": [
            "False\n"
          ],
          "name": "stdout"
        }
      ]
    },
    {
      "cell_type": "code",
      "metadata": {
        "id": "Frjk8ThjqmCj",
        "colab_type": "code",
        "outputId": "809158dc-3509-495e-e83f-9320ae172bb1",
        "colab": {
          "base_uri": "https://localhost:8080/",
          "height": 119
        }
      },
      "source": [
        "# Another comparison operator is not equal respresented as !=\n",
        "\n",
        "\n",
        "print ('2!=3 is {}'.format(2!=3))\n",
        "print ('3!=3 is {}'.format(3!=3))\n",
        "\n",
        "data = ('One'=='One')\n",
        "print ('One==One is {}'.format(data))\n",
        "\n",
        "\n",
        "print ('One==One is {}'.format('One'=='One'))\n",
        "\n",
        "\n",
        "\n",
        "\n",
        "\n",
        "data =('One'!='Two')\n",
        "print ('One!=Two is {}'.format(data))\n",
        "\n",
        "\n",
        "data =  ('One'!='One')\n",
        "print ('One!=One is {}'.format(data))\n"
      ],
      "execution_count": 0,
      "outputs": [
        {
          "output_type": "stream",
          "text": [
            "2!=3 is True\n",
            "3!=3 is False\n",
            "One==One is True\n",
            "One==One is True\n",
            "One!=Two is True\n",
            "One!=One is False\n"
          ],
          "name": "stdout"
        }
      ]
    },
    {
      "cell_type": "code",
      "metadata": {
        "id": "K_005EhCsXds",
        "colab_type": "code",
        "outputId": "3eca8b0e-318e-4eb5-acaf-baa376f77339",
        "colab": {
          "base_uri": "https://localhost:8080/",
          "height": 68
        }
      },
      "source": [
        "# Comparison for greater or smaller\n",
        "\n",
        "val = 7 > 5\n",
        "print ('7>5 is {}'.format(val))\n",
        "\n",
        "print ('7>5 is {}'.format(str()))\n",
        "\n",
        "\n",
        "\n",
        "val = 10 < 10\n",
        "print ('10<10 is {}'.format(val))\n",
        "\n",
        "\n",
        "val = 10 <= 10\n",
        "print ('10<=10 is {}'.format(val))\n"
      ],
      "execution_count": 0,
      "outputs": [
        {
          "output_type": "stream",
          "text": [
            "7>5 is True\n",
            "10<10 is False\n",
            "10<=10 is True\n"
          ],
          "name": "stdout"
        }
      ]
    },
    {
      "cell_type": "code",
      "metadata": {
        "id": "E2ExnroFJTKv",
        "colab_type": "code",
        "outputId": "59ead9b8-df0b-44d9-e720-4f2800ed0576",
        "colab": {
          "base_uri": "https://localhost:8080/",
          "height": 180
        }
      },
      "source": [
        "a = \"7<5\"\n",
        "print (int(a))"
      ],
      "execution_count": 0,
      "outputs": [
        {
          "output_type": "error",
          "ename": "ValueError",
          "evalue": "ignored",
          "traceback": [
            "\u001b[0;31m---------------------------------------------------------------------------\u001b[0m",
            "\u001b[0;31mValueError\u001b[0m                                Traceback (most recent call last)",
            "\u001b[0;32m<ipython-input-26-56f2fdca7962>\u001b[0m in \u001b[0;36m<module>\u001b[0;34m()\u001b[0m\n\u001b[1;32m      1\u001b[0m \u001b[0ma\u001b[0m \u001b[0;34m=\u001b[0m \u001b[0;34m\"7<5\"\u001b[0m\u001b[0;34m\u001b[0m\u001b[0;34m\u001b[0m\u001b[0m\n\u001b[0;32m----> 2\u001b[0;31m \u001b[0mprint\u001b[0m \u001b[0;34m(\u001b[0m\u001b[0mint\u001b[0m\u001b[0;34m(\u001b[0m\u001b[0ma\u001b[0m\u001b[0;34m)\u001b[0m\u001b[0;34m)\u001b[0m\u001b[0;34m\u001b[0m\u001b[0;34m\u001b[0m\u001b[0m\n\u001b[0m",
            "\u001b[0;31mValueError\u001b[0m: invalid literal for int() with base 10: '7<5'"
          ]
        }
      ]
    },
    {
      "cell_type": "markdown",
      "metadata": {
        "id": "fHSsArtBtZOg",
        "colab_type": "text"
      },
      "source": [
        "#  Python Control Structures"
      ]
    },
    {
      "cell_type": "markdown",
      "metadata": {
        "id": "sZyxBV8tu3Sw",
        "colab_type": "text"
      },
      "source": [
        "An if statement is used to run code based on certain condition\n",
        "\n",
        "for e.g.\n",
        "\n",
        "if expression:\n",
        "      \n",
        "      statements\n",
        "   \n",
        " Python uses indentation to decide a block of code  "
      ]
    },
    {
      "cell_type": "code",
      "metadata": {
        "id": "I84XQAHXvULp",
        "colab_type": "code",
        "colab": {}
      },
      "source": [
        "if 2>1:\n",
        "  print('2 is greater than 1') # since the if statment is true this block of code executese \n",
        "  print(\"One more\")\n",
        "    \n",
        " \n",
        "  print ('Finished') # print is not part of if block as it is indented as same level\n",
        "  \n",
        "\n"
      ],
      "execution_count": 0,
      "outputs": []
    },
    {
      "cell_type": "markdown",
      "metadata": {
        "id": "aQplKSPzw8fn",
        "colab_type": "text"
      },
      "source": [
        "An else follows an if statement\n",
        "\n",
        "if expression:\n",
        "\n",
        "     statements\n",
        " else:\n",
        " \n",
        "     statements\n",
        "  \n"
      ]
    },
    {
      "cell_type": "code",
      "metadata": {
        "id": "IYCt01vpw4Ha",
        "colab_type": "code",
        "colab": {}
      },
      "source": [
        "# taking input values\n",
        "int_data_one = int(input(\"Enter first number \")) #int ? ,Bcz here we used numbers\n",
        "int_data_two = int(input(\"Enter second number \"))\n",
        "\n",
        "if (int_data_one> int_data_two ):\n",
        "  print ('{} is greater than {}'.format(int_data_one,int_data_two))\n",
        "else:\n",
        "  print ('{} is not greater than {}'.format(int_data_one, int_data_two))\n",
        "  "
      ],
      "execution_count": 0,
      "outputs": []
    },
    {
      "cell_type": "markdown",
      "metadata": {
        "id": "ndVQZVenx3UD",
        "colab_type": "text"
      },
      "source": [
        "The elif statment is for chaining if and else statement"
      ]
    },
    {
      "cell_type": "code",
      "metadata": {
        "id": "4lHLAT4Ux8wv",
        "colab_type": "code",
        "colab": {}
      },
      "source": [
        "num = int(input(\"Enter first number \"))\n",
        "\n",
        "if num == 900:\n",
        "  print ('num is 900 **** big number') #elif ?, here we continue the if process\n",
        "elif num == 100:  \n",
        "  print ('num is 100 --- small number')\n",
        "else:\n",
        "  print ('value of num is unknown')\n",
        "  \n"
      ],
      "execution_count": 0,
      "outputs": []
    },
    {
      "cell_type": "code",
      "metadata": {
        "id": "Lx6ao7oR5ISp",
        "colab_type": "code",
        "colab": {}
      },
      "source": [
        "num = int(input(\"Enter first number \"))\n",
        "\n",
        "if num == 900:\n",
        "  print ('num is 900 **** big number')\n",
        "\n",
        "else:\n",
        "  print ('value of num is unknown')\n",
        "  "
      ],
      "execution_count": 0,
      "outputs": []
    },
    {
      "cell_type": "code",
      "metadata": {
        "id": "ICa2frxO47Oi",
        "colab_type": "code",
        "colab": {}
      },
      "source": [
        ""
      ],
      "execution_count": 0,
      "outputs": []
    },
    {
      "cell_type": "code",
      "metadata": {
        "id": "3ydaVN31M1Lf",
        "colab_type": "code",
        "colab": {}
      },
      "source": [
        "# Boolean logic is used to make complicated conditions using and,or and not\n",
        "\n",
        "# A=true,  B=true  then  (A and B) is true\n",
        "# A=true,  B=false then  (A and B) is false\n",
        "# A=false, B=true  then  (A and B) is false\n",
        "# A=false, B=false then  (A and B) is false\n",
        "\n",
        "\n",
        "cond = (1==1 and 2==2)\n",
        "print (\"1==1 and 2==2 is {}\".format(cond))  \n",
        "\n",
        "\n",
        "cond = (1==1 and 2==3)\n",
        "print (\"1==1 and 2==3 is {}\".format(cond))  \n",
        "\n",
        "\n",
        "cond = (5==6 and 2==2)\n",
        "print (\"5==6 and 2==2 is {}\".format(cond))  \n",
        "\n",
        "\n",
        "cond = (5==6 and 2==3)\n",
        "print (\"5==6 and 2==3 is {}\".format(cond))  \n",
        "\n",
        "\n",
        "  \n",
        "\n",
        "\n"
      ],
      "execution_count": 0,
      "outputs": []
    },
    {
      "cell_type": "code",
      "metadata": {
        "id": "aEVv_qEtPuhA",
        "colab_type": "code",
        "outputId": "0c91d81b-489d-4585-92c9-7757b5b1049e",
        "colab": {
          "base_uri": "https://localhost:8080/",
          "height": 85
        }
      },
      "source": [
        "# A=true,  B=true  then  (A or B) is true\n",
        "# A=true,  B=false then  (A or B) is true\n",
        "# A=false, B=true  then  (A or B) is true\n",
        "# A=false, B=false  then (A or B) is false\n",
        "\n",
        "\n",
        "cond = (1==1 or 2==2)\n",
        "print (\"1==1 or 2==2 is {}\".format(cond))  \n",
        "\n",
        "\n",
        "cond = (1==1 or 2==3)\n",
        "print (\"1==1 or 2==3 is {}\".format(cond))  \n",
        "\n",
        "\n",
        "cond = (5==6 or 2==2)\n",
        "print (\"5==6 or 2==2 is {}\".format(cond))  \n",
        "\n",
        "\n",
        "cond = (5==6 or 2==3)\n",
        "print (\"5==6 or 2==3 is {}\".format(cond))  \n",
        "\n"
      ],
      "execution_count": 0,
      "outputs": [
        {
          "output_type": "stream",
          "text": [
            "1==1 or 2==2 is True\n",
            "1==1 or 2==3 is True\n",
            "5==6 or 2==2 is True\n",
            "5==6 or 2==3 is False\n"
          ],
          "name": "stdout"
        }
      ]
    },
    {
      "cell_type": "code",
      "metadata": {
        "id": "0ukEDGrYQD34",
        "colab_type": "code",
        "outputId": "a3bbe6ad-8149-4f1a-cea8-fabfed52c04b",
        "colab": {
          "base_uri": "https://localhost:8080/",
          "height": 34
        }
      },
      "source": [
        "# not means the opposite\n",
        "\n",
        "cond = (1==1)\n",
        "notcond = not cond\n",
        "\n",
        "print (\"not 1==1 is {}\".format(notcond))  "
      ],
      "execution_count": 0,
      "outputs": [
        {
          "output_type": "stream",
          "text": [
            "not 1==1 is False\n"
          ],
          "name": "stdout"
        }
      ]
    },
    {
      "cell_type": "code",
      "metadata": {
        "id": "BSDgaMBWMuVr",
        "colab_type": "code",
        "outputId": "21790f25-3cec-4cd5-bffa-98368ce7e7aa",
        "colab": {
          "base_uri": "https://localhost:8080/",
          "height": 34
        }
      },
      "source": [
        "a =\"This\""
      ],
      "execution_count": 0,
      "outputs": [
        {
          "output_type": "stream",
          "text": [
            "False\n"
          ],
          "name": "stdout"
        }
      ]
    },
    {
      "cell_type": "code",
      "metadata": {
        "id": "mF9HeSp4Usr0",
        "colab_type": "code",
        "outputId": "274d168d-2680-49d9-a9ad-2aa00cc53e8a",
        "colab": {
          "base_uri": "https://localhost:8080/",
          "height": 51
        }
      },
      "source": [
        "# Operator Precedence\n",
        "# Python follows the standard mathematical precedence. \n",
        "# It is always better to use brackets to enforce logical ordering\n",
        "\n",
        "val = False == False or True  # This happens as == has higher predence than or\n",
        "print (val)\n",
        "\n",
        "val = False == (False or True)  # A bracket override the natural precedence\n",
        "print (val)\n"
      ],
      "execution_count": 0,
      "outputs": [
        {
          "output_type": "stream",
          "text": [
            "True\n",
            "False\n"
          ],
          "name": "stdout"
        }
      ]
    },
    {
      "cell_type": "code",
      "metadata": {
        "id": "hto3apFRWC4f",
        "colab_type": "code",
        "outputId": "3064863c-0016-40d5-c892-cc486107795d",
        "colab": {
          "base_uri": "https://localhost:8080/",
          "height": 51
        }
      },
      "source": [
        "# while statement is like if statement. The crucial difference between if and while is \n",
        "# that while executes multiple times. It is a type of loop\n",
        "\n",
        "i = 0\n",
        "while i<2:\n",
        "  print (i)\n",
        "  i= i+1\n"
      ],
      "execution_count": 0,
      "outputs": [
        {
          "output_type": "stream",
          "text": [
            "0\n",
            "1\n"
          ],
          "name": "stdout"
        }
      ]
    },
    {
      "cell_type": "code",
      "metadata": {
        "id": "6irtAwLrXHrB",
        "colab_type": "code",
        "outputId": "bb673116-1e79-4423-81a7-b28f9bd9598b",
        "colab": {
          "base_uri": "https://localhost:8080/",
          "height": 129
        }
      },
      "source": [
        "# A infinite loop continues indefnitely\n",
        "\n",
        "while True:\n",
        "  print ('running infinitely')\n",
        "   "
      ],
      "execution_count": 0,
      "outputs": [
        {
          "output_type": "error",
          "ename": "SyntaxError",
          "evalue": "ignored",
          "traceback": [
            "\u001b[0;36m  File \u001b[0;32m\"<ipython-input-40-4ed413079a9f>\"\u001b[0;36m, line \u001b[0;32m4\u001b[0m\n\u001b[0;31m    return\u001b[0m\n\u001b[0m    ^\u001b[0m\n\u001b[0;31mSyntaxError\u001b[0m\u001b[0;31m:\u001b[0m 'return' outside function\n"
          ]
        }
      ]
    },
    {
      "cell_type": "code",
      "metadata": {
        "id": "Z7ZySTdLXf4e",
        "colab_type": "code",
        "outputId": "405c8220-133a-4799-9abf-11d57f80d075",
        "colab": {
          "base_uri": "https://localhost:8080/",
          "height": 187
        }
      },
      "source": [
        "# A break statement is used to break from a loop\n",
        "i = 0\n",
        "while i<10:\n",
        "  if i==5:\n",
        "    break\n",
        "  print (i)\n",
        "  i= i+1"
      ],
      "execution_count": 0,
      "outputs": [
        {
          "output_type": "stream",
          "text": [
            "Hello\n",
            "0\n",
            "Hello\n",
            "1\n",
            "Hello\n",
            "2\n",
            "Hello\n",
            "3\n",
            "Hello\n",
            "4\n"
          ],
          "name": "stdout"
        }
      ]
    },
    {
      "cell_type": "code",
      "metadata": {
        "id": "GhSGsqJ9VHdd",
        "colab_type": "code",
        "colab": {}
      },
      "source": [
        "# A break statement is used to break from a loop\n",
        "i = 0\n",
        "while True:\n",
        "  if i==5:\n",
        "    break\n",
        "  print (i)\n",
        "  i= i+1"
      ],
      "execution_count": 0,
      "outputs": []
    },
    {
      "cell_type": "code",
      "metadata": {
        "id": "1KdDG5gBX9hd",
        "colab_type": "code",
        "outputId": "919c8b85-7f59-4905-b20c-62a3228797e0",
        "colab": {
          "base_uri": "https://localhost:8080/",
          "height": 199
        }
      },
      "source": [
        "# A continue statement stops the flow and goes back again to the starting point of block. \n",
        "# The difference between continue and break is\n",
        "# break - breaks out of the block\n",
        "# continue - goes back to start of the block\n",
        "\n",
        "i = 0\n",
        "while i<20:\n",
        "  if (i % 2==0):\n",
        "    i=i+1\n",
        "    print (\"Inside continue\",i)\n",
        "    continue\n",
        "  i=i+2  \n",
        "  print (i)\n",
        "  i= i+1"
      ],
      "execution_count": 0,
      "outputs": [
        {
          "output_type": "stream",
          "text": [
            "Inside continue 1\n",
            "3\n",
            "Inside continue 5\n",
            "7\n",
            "Inside continue 9\n",
            "11\n",
            "Inside continue 13\n",
            "15\n",
            "Inside continue 17\n",
            "19\n"
          ],
          "name": "stdout"
        }
      ]
    },
    {
      "cell_type": "code",
      "metadata": {
        "id": "766Rl8i3RDFe",
        "colab_type": "code",
        "colab": {}
      },
      "source": [
        ""
      ],
      "execution_count": 0,
      "outputs": []
    },
    {
      "cell_type": "markdown",
      "metadata": {
        "id": "kCbZltl3bsgl",
        "colab_type": "text"
      },
      "source": [
        "# Lists and Range"
      ]
    },
    {
      "cell_type": "code",
      "metadata": {
        "id": "pytRci-db3QK",
        "colab_type": "code",
        "colab": {}
      },
      "source": [
        "# A list denotes a container object in python\n",
        "# A list is used to store indexed list of items\n",
        "# A list can contain different types of items for e.g. string, intger or other list\n",
        "\n",
        "\n",
        "word_list = ['This', 'is', 'good']  # A list of 3 items\n",
        "\n",
        "print (word_list[0]) # prints the first  item. Index starts at 0.\n",
        "print (word_list[1]) # prints the second item\n",
        "print (word_list[2]) # print the third item\n",
        "\n",
        "\n",
        "# An empty list is created with empty bracket\n",
        "empty = []\n",
        "print (empty)\n"
      ],
      "execution_count": 0,
      "outputs": []
    },
    {
      "cell_type": "code",
      "metadata": {
        "id": "EGQJ6MnfdXXK",
        "colab_type": "code",
        "colab": {}
      },
      "source": [
        "# A list can contain items of multiple types\n",
        "\n",
        "generic_list = [1,\"String\",[1,2,3], 5]\n",
        "\n",
        "print ('Value at {} is {} of type {}'.format(0,generic_list[0],type(generic_list[0])))\n",
        "print ('Value at {} is {} of type {}'.format(1,generic_list[1],type(generic_list[1])))\n",
        "print ('Value at {} is {} of type {}'.format(2,generic_list[2],type(generic_list[2])))\n",
        "print ('Value at {} is {} of type {}'.format(3,generic_list[3],type(generic_list[3])))\n",
        "\n",
        "\n",
        "# nested list access\n",
        "\n",
        "print ('Accessing {} value from nested list {} = {}'.format(1,generic_list[2] ,generic_list[2][1]))\n",
        "\n",
        "\n",
        "                                         \n",
        "                                        \n",
        "\n",
        "\n",
        "       "
      ],
      "execution_count": 0,
      "outputs": []
    },
    {
      "cell_type": "code",
      "metadata": {
        "id": "6ASWWfsIjCVR",
        "colab_type": "code",
        "colab": {}
      },
      "source": [
        "# indexing out of bounds causes error\n",
        "\n",
        "generic_list = [1,\"String\",[1,2,3], 5]\n",
        "\n",
        "generic_list[4] # This will cause error"
      ],
      "execution_count": 0,
      "outputs": []
    },
    {
      "cell_type": "code",
      "metadata": {
        "id": "mS8clLtSlGEV",
        "colab_type": "code",
        "colab": {}
      },
      "source": [
        "# Elements at certain index can be reassigned\n",
        "\n",
        "nums = [4,8,16,24]\n",
        "\n",
        "print (\"The list is {}\".format(nums))\n",
        "\n",
        "nums[1] = -222\n",
        "\n",
        "print (\"The list after modification is {}\".format(nums))\n"
      ],
      "execution_count": 0,
      "outputs": []
    },
    {
      "cell_type": "code",
      "metadata": {
        "id": "Hly8q722c0Jm",
        "colab_type": "code",
        "colab": {}
      },
      "source": [
        ""
      ],
      "execution_count": 0,
      "outputs": []
    },
    {
      "cell_type": "code",
      "metadata": {
        "id": "pEtVTIR0mPsi",
        "colab_type": "code",
        "outputId": "d6664246-39a4-4019-cdbb-b2f0dee9059e",
        "colab": {
          "base_uri": "https://localhost:8080/",
          "height": 34
        }
      },
      "source": [
        "# Lists can be added and multipled\n",
        "\n",
        "nums = [6,7,8]\n",
        "\n",
        "new_list = nums * 3\n",
        "\n",
        "print (new_list)"
      ],
      "execution_count": 0,
      "outputs": [
        {
          "output_type": "stream",
          "text": [
            "[6, 7, 8, 6, 7, 8, 6, 7, 8]\n"
          ],
          "name": "stdout"
        }
      ]
    },
    {
      "cell_type": "code",
      "metadata": {
        "id": "RwHbL0vbXWgn",
        "colab_type": "code",
        "outputId": "70ee48ee-2fb0-4025-98dc-d8f34b9472ce",
        "colab": {
          "base_uri": "https://localhost:8080/",
          "height": 51
        }
      },
      "source": [
        "# A in operator is used to check if an element is present in list\n",
        "\n",
        "words =[\"The\", \"age\", \"of\", 5,\"reason\"]\n",
        "\n",
        "x = \"The\" in words\n",
        "\n",
        "print(x)\n",
        "\n",
        "x = \"Unreason\" in words\n",
        "\n",
        "\n",
        "print(x)\n"
      ],
      "execution_count": 0,
      "outputs": [
        {
          "output_type": "stream",
          "text": [
            "True\n",
            "False\n"
          ],
          "name": "stdout"
        }
      ]
    },
    {
      "cell_type": "code",
      "metadata": {
        "id": "960k7UCCX6Ns",
        "colab_type": "code",
        "colab": {}
      },
      "source": [
        "# A not operator can be used to check if item is not present\n",
        "\n",
        "nums = [1,4,8]\n",
        "\n",
        "x = 10 not in nums\n",
        "print (x)"
      ],
      "execution_count": 0,
      "outputs": []
    },
    {
      "cell_type": "code",
      "metadata": {
        "id": "5jqv9wPzYSyr",
        "colab_type": "code",
        "colab": {}
      },
      "source": [
        "# List append function\n",
        "\n",
        "nums = [5,8,10]\n",
        "nums.append(14)\n",
        "\n",
        "print (nums)"
      ],
      "execution_count": 0,
      "outputs": []
    },
    {
      "cell_type": "code",
      "metadata": {
        "id": "1TRpIrd3dEIb",
        "colab_type": "code",
        "colab": {}
      },
      "source": [
        "# List Plus Function\n",
        "nums_one = [5,8,10]\n",
        "nums_two = [15,81,101]\n",
        "\n",
        "nums_three = nums_one +nums_two\n",
        "\n",
        "print(nums_three)\n",
        "\n"
      ],
      "execution_count": 0,
      "outputs": []
    },
    {
      "cell_type": "code",
      "metadata": {
        "id": "TizfW5QNYeaz",
        "colab_type": "code",
        "colab": {}
      },
      "source": [
        "# length of list\n",
        "\n",
        "nums = [5,8,10]\n",
        "print (len(nums))"
      ],
      "execution_count": 0,
      "outputs": []
    },
    {
      "cell_type": "code",
      "metadata": {
        "id": "Z1pfQjYuYpKF",
        "colab_type": "code",
        "colab": {}
      },
      "source": [
        "# inserting at specific index\n",
        "\n",
        "nums = [5,8,10]\n",
        "nums.insert(2,100)\n",
        "\n",
        "print (nums)"
      ],
      "execution_count": 0,
      "outputs": []
    },
    {
      "cell_type": "code",
      "metadata": {
        "id": "fU6_vmQ7Y3v7",
        "colab_type": "code",
        "colab": {}
      },
      "source": [
        "# index method finds the first occurence of list item and returns the index\n",
        "\n",
        "nums = [5,8,10,12,10]\n",
        "\n",
        "ind = nums.index(10)\n",
        "\n",
        "print (ind)\n",
        "\n",
        "\n",
        "ind = nums.index(100) # A value Error is raised when item is not present in list\n",
        "\n",
        "print (ind)\n",
        "\n"
      ],
      "execution_count": 0,
      "outputs": []
    },
    {
      "cell_type": "code",
      "metadata": {
        "id": "miIMLTf0ZhLy",
        "colab_type": "code",
        "colab": {}
      },
      "source": [
        "nums = [5,8,10,12,10]\n",
        "\n",
        "print (\"The maximum is {}\".format(max(nums)))\n",
        "\n",
        "print (\"The minimum is {}\".format(min(nums)))\n",
        "\n",
        "#print (\"The number of times 10  is present is {}\".format(nums.count(10)))\n",
        "\n",
        "nums.reverse()\n",
        "\n",
        "print (\"The reverse of list is {}\".format(nums))\n",
        "\n",
        "# using rever\n",
        "revnums = reversed(nums)\n",
        "\n",
        "\n",
        "print (\"The reverse of list is {}\".format(list(revnums)))\n",
        "\n",
        "# remove 10\n",
        "\n",
        "nums.remove(10)\n",
        "\n",
        "print (\"The list after removing 10 is {}\".format(nums)) # only removes the first 10\n",
        "\n",
        "\n",
        "\n",
        "  \n",
        "  \n",
        "  \n",
        "\n",
        "\n",
        "\n"
      ],
      "execution_count": 0,
      "outputs": []
    },
    {
      "cell_type": "code",
      "metadata": {
        "id": "WrA-mR3NSbu3",
        "colab_type": "code",
        "colab": {}
      },
      "source": [
        "# using pop\n",
        "\n",
        "nums = [10,2,3,4]\n",
        "x = nums.pop(1)\n",
        "print (x,nums)\n",
        "\n",
        "x = nums.pop()\n",
        "print (x,nums)\n",
        "\n",
        "\n",
        "\n"
      ],
      "execution_count": 0,
      "outputs": []
    },
    {
      "cell_type": "code",
      "metadata": {
        "id": "IvTRzLpRUZrA",
        "colab_type": "code",
        "colab": {}
      },
      "source": [
        "# vowels list\n",
        "vowels = ['a', 'e', 'i', 'o', 'i', 'u']\n",
        "\n",
        "# count element 'i'\n",
        "count = vowels.count('i')\n",
        "\n",
        "# print count\n",
        "print('The count of i is:', count)\n",
        "\n",
        "# count element 'p'\n",
        "count = vowels.count('p')\n",
        "\n",
        "# print count\n",
        "print('The count of p is:', count)"
      ],
      "execution_count": 0,
      "outputs": []
    },
    {
      "cell_type": "code",
      "metadata": {
        "id": "JBKRi7S2XUmS",
        "colab_type": "code",
        "colab": {}
      },
      "source": [
        "words = [1,2,3,4,4]\n",
        "\n",
        "for i, j in enumerate(words):\n",
        "    print (i, j)\n",
        "\n",
        "\n",
        "\n",
        "      \n",
        "      \n",
        "  "
      ],
      "execution_count": 0,
      "outputs": []
    },
    {
      "cell_type": "code",
      "metadata": {
        "id": "1lu7wTVNjxdY",
        "colab_type": "code",
        "colab": {}
      },
      "source": [
        "# List Sorting\n",
        "\n",
        "nums = [5,8,10,12,10]\n",
        "print (nums.sort())\n",
        "print (nums)\n",
        "\n",
        "\n",
        "nums = [115,8,10,112,10]\n",
        "x = sorted(nums)\n",
        "print(x)\n",
        "\n",
        "\n",
        "nums = [5,8,10,12,10]\n",
        "print (nums.sort(reverse=True))\n",
        "print (nums)\n",
        "\n",
        "\n",
        "nums = [115,8,10,112,10]\n",
        "x = sorted(nums,reverse=True)\n",
        "print(x)\n"
      ],
      "execution_count": 0,
      "outputs": []
    },
    {
      "cell_type": "code",
      "metadata": {
        "id": "b44a0-W3uqG7",
        "colab_type": "code",
        "colab": {}
      },
      "source": [
        "# List copying\n",
        "\n",
        "old_list = [1, 2, 3]\n",
        "new_list = old_list\n",
        "\n",
        "# add element to list\n",
        "new_list.append('a')\n",
        "\n",
        "print('New List:', new_list )\n",
        "print('Old List:', old_list )\n",
        "\n",
        "#The problem with copying the list in this way is that if you modify the new_list, the old_list is also modified.\n",
        "\n",
        "\n",
        "#However, if you need the original list unchanged when the new list is modified, you can use copy() method. This is called\n",
        "#shallow copy.\n",
        "\n",
        "# mixed list\n",
        "lista = ['cat', 0, 6.7]\n",
        "\n",
        "# copying a list\n",
        "new_list = lista.copy()\n",
        "\n",
        "# Adding element to the new list\n",
        "new_list.append('dog')\n",
        "\n",
        "# Printing new and old list\n",
        "print('Old List: ', lista)\n",
        "print('New List: ', new_list)"
      ],
      "execution_count": 0,
      "outputs": []
    },
    {
      "cell_type": "code",
      "metadata": {
        "id": "u85muu-6cqNV",
        "colab_type": "code",
        "colab": {}
      },
      "source": [
        "# removing all values of 10\n",
        "\n",
        "nums = [5,8,10,12,10]\n",
        "while 10 in nums:\n",
        "  nums.remove(10)\n",
        "  \n",
        "print (\"The list after removing 10 is {}\".format(nums)) # This removes all the values of 10"
      ],
      "execution_count": 0,
      "outputs": []
    },
    {
      "cell_type": "code",
      "metadata": {
        "id": "0MUVSO0WdSlw",
        "colab_type": "code",
        "colab": {}
      },
      "source": [
        "# Range function creates a list of numbers\n",
        "num = list(range(10))\n",
        "print (num)\n",
        "\n",
        "num = list(range(1,10))\n",
        "print (num)\n",
        "\n",
        "num = list(range(1,10,2)) # positive step\n",
        "print (num)\n",
        "\n",
        "\n",
        "num = list(range(10,0,-1)) # negative step\n",
        "print (num)\n",
        "\n",
        "\n",
        "\n",
        "for i in range(1,10):\n",
        "  print (i)\n"
      ],
      "execution_count": 0,
      "outputs": []
    },
    {
      "cell_type": "code",
      "metadata": {
        "id": "eKrKwN2_eIPu",
        "colab_type": "code",
        "colab": {}
      },
      "source": [
        "# For Loop\n",
        "\n",
        "data = [1,4,10]\n",
        "for d in data:\n",
        "  print (d)\n",
        "  \n",
        "print(\"\\n\")\n",
        "  \n",
        "for i in range(5):\n",
        "  print (i)\n"
      ],
      "execution_count": 0,
      "outputs": []
    },
    {
      "cell_type": "code",
      "metadata": {
        "id": "29AO-2Fcwjro",
        "colab_type": "code",
        "colab": {}
      },
      "source": [
        "# Clear function clears all the values of a list\n",
        "fruits = ['apple', 'banana', 'cherry', 'orange']\n",
        "\n",
        "fruits.clear()\n",
        "print(fruits)"
      ],
      "execution_count": 0,
      "outputs": []
    },
    {
      "cell_type": "markdown",
      "metadata": {
        "id": "5edec6aJu3jc",
        "colab_type": "text"
      },
      "source": [
        "# Python Function and Modules"
      ]
    },
    {
      "cell_type": "markdown",
      "metadata": {
        "id": "2OZIM6kZvLOA",
        "colab_type": "text"
      },
      "source": [
        "Functions help to reuse code. The bring modularity and simplicity to code"
      ]
    },
    {
      "cell_type": "code",
      "metadata": {
        "id": "VwUHq36rvTeY",
        "colab_type": "code",
        "colab": {}
      },
      "source": [
        "# functions in python are created using def statement"
      ],
      "execution_count": 0,
      "outputs": []
    },
    {
      "cell_type": "code",
      "metadata": {
        "id": "yXIsWC9xveJn",
        "colab_type": "code",
        "colab": {}
      },
      "source": [
        "def name_of_great_philospher():\n",
        "  print ('Bertrand Arthur William Russell')\n",
        "\n",
        "name_of_great_philospher() "
      ],
      "execution_count": 0,
      "outputs": []
    },
    {
      "cell_type": "code",
      "metadata": {
        "id": "9EDZgHcrv_a5",
        "colab_type": "code",
        "colab": {}
      },
      "source": [
        "# functions need to be defined before they are called\n",
        "name_of_philospher() \n",
        "\n",
        "def name_of_philospher():\n",
        "  print ('Bertrand Arthur William Russell')"
      ],
      "execution_count": 0,
      "outputs": []
    },
    {
      "cell_type": "code",
      "metadata": {
        "id": "2AY5Ku-9heqD",
        "colab_type": "code",
        "colab": {}
      },
      "source": [
        ""
      ],
      "execution_count": 0,
      "outputs": []
    },
    {
      "cell_type": "code",
      "metadata": {
        "id": "oq6seIQTwPlj",
        "colab_type": "code",
        "colab": {}
      },
      "source": [
        "# One can pass arguments to functions\n",
        "# name is an argument for the function name_of_philosphers\n",
        "\n",
        "def name_of_philospher(name, country):\n",
        "  print (name,country)\n",
        "  \n",
        "  \n",
        "name_of_philospher('Bertrand Arthur William Russell', 'United Kingdom') \n"
      ],
      "execution_count": 0,
      "outputs": []
    },
    {
      "cell_type": "code",
      "metadata": {
        "id": "S8pQYTg5xHW9",
        "colab_type": "code",
        "colab": {}
      },
      "source": [
        "#function can  return values\n",
        "\n",
        "def name_of_philospher(name, country):\n",
        "  str = \"The philosopher {} lived in  country {}\".format(name,country)\n",
        "  return str\n",
        "\n",
        "\n",
        "name = name_of_philospher('Bertrand Arthur William Russell', 'United Kingdom') \n",
        "print (name)\n"
      ],
      "execution_count": 0,
      "outputs": []
    },
    {
      "cell_type": "code",
      "metadata": {
        "id": "_VveBboqx61u",
        "colab_type": "code",
        "colab": {}
      },
      "source": [
        "# function can return multiple values\n",
        "\n",
        "def add_and_substract(num1,num2):\n",
        "    add = num1+num2\n",
        "    diff = num1-num2\n",
        "    return add,diff\n",
        "  \n",
        "add,diff = add_and_substract(10,2) \n",
        "\n",
        "print (\"The sum is =\",add)\n",
        "print (\"The difference is =\",diff)\n"
      ],
      "execution_count": 0,
      "outputs": []
    },
    {
      "cell_type": "code",
      "metadata": {
        "id": "7KfWeKMmytw9",
        "colab_type": "code",
        "colab": {}
      },
      "source": [
        "# Using named arguments\n",
        "\n",
        "def add_and_substract(num1,num2):\n",
        "    add = num1+num2\n",
        "    diff = num1-num2\n",
        "    return add,diff\n",
        "  \n",
        "add,diff = add_and_substract(num1=10,num2=2) \n",
        "\n",
        "print (\"The sum is =\",add)\n",
        "print (\"The difference is =\",diff)\n",
        "\n",
        "add,diff = add_and_substract(num2=2,num1=10)\n",
        "print (\"The sum is =\",add)\n",
        "print (\"The difference is =\",diff)\n",
        "\n"
      ],
      "execution_count": 0,
      "outputs": []
    },
    {
      "cell_type": "code",
      "metadata": {
        "id": "iS1dB5TFzR51",
        "colab_type": "code",
        "colab": {}
      },
      "source": [
        "#any code after return will not be executed\n",
        "\n",
        "def add_and_substract(num1,num2):\n",
        "    add = num1+num2\n",
        "    diff = num1-num2\n",
        "    return add,diff\n",
        "    print ('After Function')\n",
        "  \n",
        "add,diff = add_and_substract(num1=10,num2=2)\n",
        "print (\"The sum is =\",add)\n",
        "print (\"The difference is =\",diff)\n"
      ],
      "execution_count": 0,
      "outputs": []
    },
    {
      "cell_type": "code",
      "metadata": {
        "id": "u4D7pIKmzwrZ",
        "colab_type": "code",
        "colab": {}
      },
      "source": [
        "#docsstring are documentation strings. They are created by using a multiline string\n",
        "#after first line of function\n",
        "\n",
        "def add_and_substract(num1,num2):\n",
        "    \"\"\"\n",
        "     The function adds and subtsracts two numbers\n",
        "    \"\"\" \n",
        "    add = num1+num2\n",
        "    diff = num1-num2\n",
        "    return add,diff\n",
        "   \n",
        "  \n",
        "add,diff = add_and_substract(num1=10,num2=2)\n",
        "print (\"The sum is =\",add)\n",
        "print (\"The difference is =\",diff)\n",
        " "
      ],
      "execution_count": 0,
      "outputs": []
    },
    {
      "cell_type": "code",
      "metadata": {
        "id": "Abm-NNKqObD5",
        "colab_type": "code",
        "colab": {}
      },
      "source": [
        "# Functions are just like normal variables. They can be assigned and \n",
        "# reassigned to variables\n",
        "\n",
        "def add_and_substract(num1,num2):\n",
        "    \"\"\"\n",
        "     The function adds and subtsracts two numbers\n",
        "    \"\"\" \n",
        "    add = num1+num2\n",
        "    diff = num1-num2\n",
        "    return add,diff\n",
        "  \n",
        "operation = add_and_substract\n",
        "\n",
        "num1, num2 = operation(5,2)\n",
        "print (num1, num2)\n",
        "  \n",
        "\n",
        "\n"
      ],
      "execution_count": 0,
      "outputs": []
    },
    {
      "cell_type": "code",
      "metadata": {
        "id": "sflZ4vVUPHFI",
        "colab_type": "code",
        "colab": {}
      },
      "source": [
        "# function can also be used as arguments to other functions\n",
        "\n",
        "def add_and_substract(num1,num2):\n",
        "    \"\"\"\n",
        "     The function adds and subtsracts two numbers\n",
        "    \"\"\" \n",
        "    add = num1+num2\n",
        "    diff = num1-num2\n",
        "    return add,diff\n",
        "\n",
        "def add_summ_diff(func, num1, num2):\n",
        "      x,y = func(num1,num2)\n",
        "      return x+y\n",
        "    \n",
        "    \n",
        "val = add_summ_diff(add_and_substract,10,3)    \n",
        "print (val)\n",
        "    \n",
        "    \n",
        "    \n",
        "    \n"
      ],
      "execution_count": 0,
      "outputs": []
    },
    {
      "cell_type": "code",
      "metadata": {
        "id": "qhUntJulJAfZ",
        "colab_type": "code",
        "colab": {}
      },
      "source": [
        "# The special syntax, *args and **kwargs in function definitions is used to pass a variable number of arguments to a function.\n",
        "\n",
        "# The single asterisk form (*args) is used to pass a non-keyworded, variable-length argument list, \n",
        "# and the double asterisk form is used to pass a keyworded, variable-length argument list. \n",
        "\n",
        "\n",
        "def add_numbers(*args):\n",
        "  \n",
        "  for i in args:\n",
        "    print (i)\n",
        "\n",
        "add_numbers(1,2,3,4,5)    \n",
        "\n",
        "\n",
        "\n",
        "def add_numbers(**kwargs):\n",
        "    for key in kwargs:\n",
        "        print (\"another keyword arg: {}: {}\".format(key, kwargs[key]))\n",
        "   \n",
        "  \n",
        "add_numbers(num1=1,num2=2,num3=3,num4=4,num5=5)    \n",
        "    \n",
        "\n",
        "    "
      ],
      "execution_count": 0,
      "outputs": []
    },
    {
      "cell_type": "code",
      "metadata": {
        "id": "Gybw-H29P9MH",
        "colab_type": "code",
        "colab": {}
      },
      "source": [
        "# modules can be thought as collection of functions\n",
        "# the way to use module is via import function\n",
        "\n",
        "import random\n",
        "\n",
        "for i in range(6):\n",
        "  value = random.randint(1,8)\n",
        "  print (value)"
      ],
      "execution_count": 0,
      "outputs": []
    },
    {
      "cell_type": "code",
      "metadata": {
        "id": "Q_k42VQdQrpw",
        "colab_type": "code",
        "colab": {}
      },
      "source": [
        "# One can also import a specific function\n",
        "\n",
        "from random import randint\n",
        "\n",
        "for i in range(6):\n",
        "  value = randint(1,8)\n",
        "  print (value)"
      ],
      "execution_count": 0,
      "outputs": []
    },
    {
      "cell_type": "code",
      "metadata": {
        "id": "3eOg6hQLRVqV",
        "colab_type": "code",
        "colab": {}
      },
      "source": [
        "# one can import a module under a different name or object\n",
        "\n",
        "from random import randint as my_rand_func\n",
        "\n",
        "for i in range(6):\n",
        "  value = my_rand_func(1,8)\n",
        "  print (value)"
      ],
      "execution_count": 0,
      "outputs": []
    },
    {
      "cell_type": "markdown",
      "metadata": {
        "id": "SbWeZU2RRteP",
        "colab_type": "text"
      },
      "source": [
        "### There are main three types of modules\n",
        "\n",
        "\n",
        "*   Modules which one write on own\n",
        "*   Third Party Modules\n",
        "*   Python Standard Library\n",
        "\n",
        "Standard library includes string,re,datetime and many more.\n",
        "\n",
        "\n",
        "The third party modules can be installed using pip.\n",
        "\n"
      ]
    },
    {
      "cell_type": "code",
      "metadata": {
        "id": "J-yWITTVTJp-",
        "colab_type": "code",
        "colab": {}
      },
      "source": [
        "# for e.g to install google-api-python-client\n",
        "\n",
        "!pip install google-api-python-client"
      ],
      "execution_count": 0,
      "outputs": []
    },
    {
      "cell_type": "code",
      "metadata": {
        "id": "92rfKE9gTSZV",
        "colab_type": "code",
        "colab": {}
      },
      "source": [
        ""
      ],
      "execution_count": 0,
      "outputs": []
    },
    {
      "cell_type": "markdown",
      "metadata": {
        "id": "YEc0gFxIeUiw",
        "colab_type": "text"
      },
      "source": [
        "# Python Exceptions"
      ]
    },
    {
      "cell_type": "code",
      "metadata": {
        "id": "8tQxIp-qe-6T",
        "colab_type": "code",
        "colab": {}
      },
      "source": [
        "# Exceptions occur when something wrong happens in the code. The program stops immediately\n",
        "\n",
        "num1 = 4\n",
        "num2 = 0\n",
        "\n",
        "print (num1/num2)\n",
        "\n",
        "print (\"Exiting\")   #This line will not be printed"
      ],
      "execution_count": 0,
      "outputs": []
    },
    {
      "cell_type": "markdown",
      "metadata": {
        "id": "jQeqPec-fq39",
        "colab_type": "text"
      },
      "source": [
        "Exceptions can be raised for multiple reasons. For e.g.\n",
        "\n",
        "* ImportError - An import fails\n",
        "* IndexError - A list is indexed with out of range error\n",
        "* SytanxError - Some syntax error\n",
        "* TypeError - A function is called with a wrong type of variable\n",
        "* ValueError - A function is called with inappropriate value\n"
      ]
    },
    {
      "cell_type": "code",
      "metadata": {
        "id": "bJuqsPotgcuW",
        "colab_type": "code",
        "colab": {}
      },
      "source": [
        "#import nump1\n",
        "\n",
        "#list = [1,2,3]\n",
        "#list[4]        # Index Error\n",
        "\n",
        "\n",
        "#list = {1,2,3] # Syntax error\n",
        "\n",
        "\n",
        "#x = int('One') # This causes a value error\n",
        "\n",
        "def add_num(num1,num2):\n",
        "    return int(num1)+int(num2)   #value error\n",
        "  \n",
        "\n",
        "add_num(\"One\",\"Two\")\n",
        "  \n",
        "        \n",
        "        "
      ],
      "execution_count": 0,
      "outputs": []
    },
    {
      "cell_type": "code",
      "metadata": {
        "id": "S33v7oNpiytJ",
        "colab_type": "code",
        "colab": {}
      },
      "source": [
        "# To handle exceptions we use try/except statement. Try contains code that might throw an exception\n",
        "\n",
        "\n",
        "try:\n",
        "  num1 = 8\n",
        "  num2 = 0\n",
        "  x = num1/num2           # This line throws exception. The code stops immediately. \n",
        "  print (\"This statement will not be printed\") # This line is not executed.\n",
        "  \n",
        "except ZeroDivisionError:\n",
        "   print (\"Zero Division Error\")\n",
        "  "
      ],
      "execution_count": 0,
      "outputs": []
    },
    {
      "cell_type": "code",
      "metadata": {
        "id": "7A2JqvWjj2sZ",
        "colab_type": "code",
        "colab": {}
      },
      "source": [
        "# A try statement can have multiple except blocks\n",
        "\n",
        "try:\n",
        "  variable = 10\n",
        "  print(variable+\"hello\")\n",
        "  print(variable/2)\n",
        "  \n",
        "except ZeroDivisionError:  \n",
        "  print(\"Divided by Zero\")\n",
        "except(ValueError, TypeError):\n",
        "  print(\"Error Occured\")\n",
        "  "
      ],
      "execution_count": 0,
      "outputs": []
    },
    {
      "cell_type": "code",
      "metadata": {
        "id": "H5PsBTjNktKt",
        "colab_type": "code",
        "colab": {}
      },
      "source": [
        "# An except statement without any exception specified will catch all errors\n",
        "\n",
        "try:\n",
        "  \n",
        "  4/0\n",
        "  \n",
        "except:\n",
        "  print (\"Error Occured\")"
      ],
      "execution_count": 0,
      "outputs": []
    },
    {
      "cell_type": "code",
      "metadata": {
        "id": "UM8TTfR8lNZP",
        "colab_type": "code",
        "colab": {}
      },
      "source": [
        "# To ensure that code runs no matter a finally block will be used\n",
        "try:\n",
        "  print(\"Step 1\")\n",
        "  4/0                            # An exception happen here\n",
        "except ZeroDivisionError:        # The exception is caught here   \n",
        "  print (\"Divided by Zero\")      # This is printed\n",
        "  \n",
        "finally:\n",
        "  print(\"This will be always executed\")  # This will be executed whether there is exception or not"
      ],
      "execution_count": 0,
      "outputs": []
    },
    {
      "cell_type": "code",
      "metadata": {
        "id": "uiuW0yhrmIdP",
        "colab_type": "code",
        "colab": {}
      },
      "source": [
        "# Code in finally statement always runs even if there is an exception in above block\n",
        "\n",
        "try:\n",
        "  print (8/0)\n",
        "except ZeroDivisionError:\n",
        "  print (unknown_data)  # This will trigger an exception\n",
        "finally:\n",
        "  print (\"This will always be executed\")"
      ],
      "execution_count": 0,
      "outputs": []
    },
    {
      "cell_type": "code",
      "metadata": {
        "id": "4SZZiEE3nM81",
        "colab_type": "code",
        "colab": {}
      },
      "source": [
        "# One can raise exceptions by using the raise statement\n",
        "print (\"data\")\n",
        "raise ValueError\n",
        "print (\"2\")"
      ],
      "execution_count": 0,
      "outputs": []
    },
    {
      "cell_type": "code",
      "metadata": {
        "id": "N6xHMPUdnjAd",
        "colab_type": "code",
        "colab": {}
      },
      "source": [
        "# Exceptions can be raised by giving details about arguments\n",
        "\n",
        "name = \"123\"\n",
        "raise NameError(\"Invalid Name\")"
      ],
      "execution_count": 0,
      "outputs": []
    },
    {
      "cell_type": "code",
      "metadata": {
        "id": "-EBzeHyknz0K",
        "colab_type": "code",
        "colab": {}
      },
      "source": [
        "# In except blocks the raise statement can be used without arguments. It re raises whatever exception\n",
        "# has occured\n",
        "\n",
        "try:\n",
        "  num = 5/0\n",
        "except: \n",
        "  print (\"Error Occured\")\n",
        "  raise"
      ],
      "execution_count": 0,
      "outputs": []
    },
    {
      "cell_type": "code",
      "metadata": {
        "id": "_IKlKExYoOHQ",
        "colab_type": "code",
        "colab": {}
      },
      "source": [
        "def my_func():\n",
        "  try:\n",
        "    4/0   # This raises ZeroDivisionError\n",
        "  \n",
        "  except Exception as ex:\n",
        "    template = \"An exception of type {0} occurred. Arguments:\\n{1!r}\"\n",
        "    message = template.format(type(ex).__name__, ex.args)\n",
        "    print (message)\n",
        "    raise # The ZeroDivisionError is propogated out\n",
        "   \n",
        "  \n",
        "def another_func():\n",
        "  try:\n",
        "    my_func()\n",
        "  except ZeroDivisionError: # The ZeroDivisionError is caught\n",
        "      print ('Error')\n",
        "      \n",
        "another_func()      \n",
        "   \n",
        "  \n",
        "    "
      ],
      "execution_count": 0,
      "outputs": []
    },
    {
      "cell_type": "code",
      "metadata": {
        "id": "A2X_xaYfxlre",
        "colab_type": "code",
        "colab": {}
      },
      "source": [
        "class MyException(Exception):\n",
        "    \n",
        "    def __init__ (self,code):\n",
        "        self.code = code\n",
        "        \n",
        "       \n",
        "    \n",
        "\n",
        "def my_func():\n",
        "    try:\n",
        "        4/0   # This raises ZeroDivisionError\n",
        "    except ZeroDivisionError:\n",
        "        raise MyException(100)\n",
        "        \n",
        "\n",
        "try:        \n",
        "    my_func()        \n",
        "except MyException as ex:    \n",
        "    print (ex)\n"
      ],
      "execution_count": 0,
      "outputs": []
    },
    {
      "cell_type": "markdown",
      "metadata": {
        "id": "hRp_o68dq1Hv",
        "colab_type": "text"
      },
      "source": [
        "# File Handling Python"
      ]
    },
    {
      "cell_type": "code",
      "metadata": {
        "id": "YV3A_aWOq73P",
        "colab_type": "code",
        "colab": {}
      },
      "source": [
        "\n",
        "# In Python a file can be either text or binary\n",
        "# Text files are structured as a sequence of lines, where each line includes a sequence of characters. \n",
        "# Each line is terminated with a special character, called the EOL or End of Line character. \n",
        "# There are several types but the most common is the comma {,} or newline character.\n",
        "\n",
        "my_file = open(\"philosphers.txt\", \"w\") # open file for writing\n",
        "\n",
        "lines = ['The great philosphers of the world\\n', 'John Locke\\n', 'Kant\\n']\n",
        "my_file.writelines(lines)\n",
        "my_file.close()\n",
        "\n",
        "my_file = open(\"philosphers.txt\", \"r\") # open file for reading\n",
        "file_data = my_file.read()\n",
        "print(type(file_data))\n",
        "print (file_data)\n",
        "my_file.close()\n",
        "\n",
        "\n",
        "\n"
      ],
      "execution_count": 0,
      "outputs": []
    },
    {
      "cell_type": "code",
      "metadata": {
        "id": "x_8-684CXcSK",
        "colab_type": "code",
        "colab": {}
      },
      "source": [
        "my_file = open(\"philosphers.txt\", \"w\") # open file for writing mode will erase all the existing content.\n",
        "my_file.write(\"John Locke\\n\")\n",
        "my_file.close()\n",
        "\n",
        "my_file = open(\"philosphers.txt\", \"r\") # open file for reading\n",
        "file_data = my_file.read()\n",
        "print (file_data)\n",
        "my_file.close()\n",
        "\n",
        "\n",
        "my_file = open(\"philosphers.txt\", \"a\") # open file for writing in append mode\n",
        "my_file.write(\"Immanuel Kant\\n\")\n",
        "my_file.close()\n",
        "\n",
        "\n",
        "my_file = open(\"philosphers.txt\", \"r\") # open file for reading\n",
        "file_data = my_file.read()\n",
        "print (file_data)   # will not print John Locke and Immanuel Kant\n",
        "my_file.close()\n"
      ],
      "execution_count": 0,
      "outputs": []
    },
    {
      "cell_type": "code",
      "metadata": {
        "id": "jzN7mZUUraVV",
        "colab_type": "code",
        "colab": {}
      },
      "source": [
        "# This kind of style always ensures that files are closed\n",
        "\n",
        "try:\n",
        "  my_file = open(\"philosphers.txt\", \"w\") # open file for writing\n",
        "  my_file.write(\"The great philosphers of the world\")\n",
        "finally:  \n",
        "  my_file.close()"
      ],
      "execution_count": 0,
      "outputs": []
    },
    {
      "cell_type": "code",
      "metadata": {
        "id": "47ldtzty-z1Q",
        "colab_type": "code",
        "colab": {}
      },
      "source": [
        "# This code will work only in pycharm.\n",
        "\n",
        "\n",
        "import os\n",
        "\n",
        "package_dir = os.path.dirname(os.path.abspath(__file__))\n",
        "print(package_dir)\n",
        "thefile = os.path.join(package_dir,'philosphers.txt')\n",
        "print(thefile)\n",
        "\n",
        "my_file = open(thefile, \"r\") # open file for reading\n",
        "file_data = my_file.read()\n",
        "print(type(file_data))\n",
        "print (file_data)\n",
        "my_file.close()\n"
      ],
      "execution_count": 0,
      "outputs": []
    },
    {
      "cell_type": "code",
      "metadata": {
        "id": "b_WAmdcwrlvi",
        "colab_type": "code",
        "colab": {}
      },
      "source": [
        "# Another way of working with files is\n",
        "with open(\"philosphers.txt\") as f:\n",
        "  print(f.read())"
      ],
      "execution_count": 0,
      "outputs": []
    },
    {
      "cell_type": "code",
      "metadata": {
        "id": "wiUlUA6IscSy",
        "colab_type": "code",
        "colab": {}
      },
      "source": [
        "# A none object is used to represent the absence of a value.\n",
        "# it is like null in any other programming language\n",
        "\n",
        "x = (None == None)\n",
        "print (x)\n",
        "\n",
        "x = (None == True)\n",
        "print (x)\n",
        "\n",
        "x = (None == False)\n",
        "print (x)\n",
        "\n",
        "\n",
        "def afunc():           # A function which does not return a value returns none.\n",
        "   print(\"Hello\")\n",
        "    \n",
        "print (afunc())        # A none is returned"
      ],
      "execution_count": 0,
      "outputs": []
    },
    {
      "cell_type": "markdown",
      "metadata": {
        "id": "EvFEir9AviXd",
        "colab_type": "text"
      },
      "source": [
        "#Dictionaries"
      ]
    },
    {
      "cell_type": "code",
      "metadata": {
        "id": "4u6fMpLXvtDR",
        "colab_type": "code",
        "colab": {}
      },
      "source": [
        "# Dictionaries are data structures used to map key to values\n",
        "\n",
        "philosphers = {\"United Kingdom\":\"Bertrand Russell\", \"Germany\":\"Karl Marx\"}\n",
        "\n",
        "print (philosphers[\"United Kingdom\"])\n",
        "print (philosphers[\"Germany\"])\n"
      ],
      "execution_count": 0,
      "outputs": []
    },
    {
      "cell_type": "code",
      "metadata": {
        "id": "sD7hVsjEwusg",
        "colab_type": "code",
        "colab": {}
      },
      "source": [
        "# Accessing a Index which is not part of dictionary results in a keyerror\n",
        "\n",
        "philosphers = {\"United Kingdom\":\"Bertrand Russell\", \"Germany\":\"Karl Marx\"}\n",
        "\n",
        "print (philosphers[\"India\"])  # This will result in a KeyError\n",
        "\n"
      ],
      "execution_count": 0,
      "outputs": []
    },
    {
      "cell_type": "code",
      "metadata": {
        "id": "ZkD4dwx1xIef",
        "colab_type": "code",
        "colab": {}
      },
      "source": [
        "# Only immutable objects can be used as keys. Using a mutable object as key will cause a type error\n",
        "\n",
        "\n",
        "d = {\n",
        "    [1,2,3]:\"One Two Three\"\n",
        "}\n",
        "\n",
        "print (d)"
      ],
      "execution_count": 0,
      "outputs": []
    },
    {
      "cell_type": "code",
      "metadata": {
        "id": "NMgyck_OyLWc",
        "colab_type": "code",
        "colab": {}
      },
      "source": [
        "\n",
        "philosphers = {\"United Kingdom\":\"Bertrand Russell\", \"Germany\":\"Karl Marx\", \"India\":None}\n",
        "\n",
        "philosphers[\"India\"] = \"AryaBhatt\"              #One can assign a existing key to new value\n",
        "philosphers[\"United Kingdom\"] = \"John Stuart Mill\" #One can assign a existing key to new value\n",
        "philosphers[\"United States\"] = \"John Dewey\" # One can create a new key and assign a value\n",
        "\n",
        "\n",
        "\n",
        "print (philosphers)\n",
        "\n",
        "\n",
        "\n"
      ],
      "execution_count": 0,
      "outputs": []
    },
    {
      "cell_type": "code",
      "metadata": {
        "id": "9ZtRvC-vz4n1",
        "colab_type": "code",
        "colab": {}
      },
      "source": [
        "\n",
        "# One can determine whether a key is present in dictionary or not using in and not in\n",
        "\n",
        "philosphers = {\"United Kingdom\":\"Bertrand Russell\", \"Germany\":\"Karl Marx\", \"India\":\"Arya Bhatt\"}\n",
        "\n",
        "print (\"India\" in philosphers)\n",
        "print (\"Brazil\" in philosphers)\n",
        "print (\"Brazil\" not in philosphers)\n",
        "\n",
        "\n",
        "print(philosphers)\n",
        "\n"
      ],
      "execution_count": 0,
      "outputs": []
    },
    {
      "cell_type": "code",
      "metadata": {
        "id": "wxl1kkkTCLcE",
        "colab_type": "code",
        "colab": {}
      },
      "source": [
        "# One can determine whether a key is present in dictionary or not using in and not in\n",
        "\n",
        "philosphers = {\"United Kingdom\":\"Bertrand Russell\", \"Germany\":\"Karl Marx\", \"India\":\"Arya Bhatt\"}\n",
        "\n",
        "print (philosphers.keys())\n",
        "\n",
        "print(type(philosphers.keys()))\n",
        "\n",
        "print (philosphers.values())\n",
        "print(type(philosphers.values()))\n",
        "\n",
        "print (philosphers.items())\n",
        "print(type(philosphers.items()))\n"
      ],
      "execution_count": 0,
      "outputs": []
    },
    {
      "cell_type": "code",
      "metadata": {
        "id": "nsTi9VALTGAA",
        "colab_type": "code",
        "colab": {}
      },
      "source": [
        ""
      ],
      "execution_count": 0,
      "outputs": []
    },
    {
      "cell_type": "code",
      "metadata": {
        "id": "u0O6vGu60uXd",
        "colab_type": "code",
        "colab": {}
      },
      "source": [
        "# A get method is like an index with added advantage that one can specify a default value \n",
        "# if the index is not found This prevents keyerror\n",
        "\n",
        "philosphers = {\"United Kingdom\":\"Bertrand Russell\", \"Germany\":\"Karl Marx\", \"India\":\"Arya Bhatt\"}\n",
        "\n",
        "print (philosphers.get(\"Russia\",\"No philospher set for Russia\"))  # No keyerror\n",
        "print (philosphers.get(\"Russia\"))  # By default a None value will be returned\n",
        "print (philosphers[\"Russia\"])   # A keyerror occurs\n"
      ],
      "execution_count": 0,
      "outputs": []
    },
    {
      "cell_type": "markdown",
      "metadata": {
        "id": "xQ-qpdcOlvhN",
        "colab_type": "text"
      },
      "source": [
        "# JSON"
      ]
    },
    {
      "cell_type": "code",
      "metadata": {
        "id": "JBywTAjwlyZc",
        "colab_type": "code",
        "colab": {}
      },
      "source": [
        "import json\n",
        "\n",
        "john_row = {\n",
        "  \"name\": \"John\",\n",
        "  \"age\": 30,\n",
        "  \"married\": True,\n",
        "  \"divorced\": False,\n",
        "  \"children\": [\"Ann\",\"Billy\"],\n",
        "  \"pets\": None,\n",
        "  \"cars\": [\n",
        "    {\"model\": \"BMW 230\", \"mpg\": 27.5},\n",
        "    {\"model\": \"Ford Edge\", \"mpg\": 24.1}\n",
        "  ]\n",
        "}\n",
        "\n",
        "hari_row = {\n",
        "  \"name\": \"hari\",\n",
        "  \"age\": 30,\n",
        "  \"married\": True,\n",
        "  \"divorced\": False,\n",
        "  \"children\": [\"Ann\",\"Billy\"],\n",
        "  \"pets\": None,\n",
        "  \"cars\": [\n",
        "    {\"model\": \"BMW 230\", \"mpg\": 27.5},\n",
        "    {\"model\": \"Ford Edge\", \"mpg\": 24.1}\n",
        "  ]\n",
        "}\n",
        "\n",
        "person_table = []\n",
        "person_table.append(john_row)\n",
        "person_table.append(hari_row)\n",
        "\n",
        "\n",
        "print(json.dumps(person_table, indent =4))"
      ],
      "execution_count": 0,
      "outputs": []
    },
    {
      "cell_type": "markdown",
      "metadata": {
        "id": "cS2BzhZd17gm",
        "colab_type": "text"
      },
      "source": [
        "#Tuples"
      ]
    },
    {
      "cell_type": "code",
      "metadata": {
        "id": "zpv47IjE2B4F",
        "colab_type": "code",
        "colab": {}
      },
      "source": [
        "# Tuples are similar to list except that they are immutable. Once assigned values cannot be changed\n",
        "# They are created using paranthesis\n",
        "\n",
        "\n",
        "\n",
        "philosphers = (\"Bertrand Russell\", \"Karl Marx\", \"Arya Bhatt\")\n",
        "print (philosphers[0])\n",
        "\n",
        "#philosphers[0] = \"John Locke\" # This will result in an error\n",
        "\n",
        "\n",
        "def multiple_ret_params():\n",
        "  return 1,2,3\n",
        "  \n",
        "  \n",
        "x = multiple_ret_params()  \n",
        "print(type(x))  # returns a tuple\n",
        "\n",
        "\n",
        "def func(*arg):\n",
        "    print(\"The  argument type is\",type(arg))  # This will print tuple\n",
        "    pass\n",
        "  \n",
        "func(1,2,3)  \n",
        "  \n",
        "  \n",
        "\n"
      ],
      "execution_count": 0,
      "outputs": []
    },
    {
      "cell_type": "code",
      "metadata": {
        "id": "Hfk-66Hx20Cd",
        "colab_type": "code",
        "colab": {}
      },
      "source": [
        "# Tuples can also be created without parentheses by just separating with commas\n",
        "\n",
        "philosphers = \"Bertrand Russell\", \"Karl Marx\", \"Arya Bhatt\"\n",
        "print (philosphers[2])\n",
        "\n",
        "\n"
      ],
      "execution_count": 0,
      "outputs": []
    },
    {
      "cell_type": "markdown",
      "metadata": {
        "id": "JpPgaFLQvXqi",
        "colab_type": "text"
      },
      "source": [
        "# Sets"
      ]
    },
    {
      "cell_type": "code",
      "metadata": {
        "id": "HRQI44zbvere",
        "colab_type": "code",
        "colab": {}
      },
      "source": [
        "first_set = {\"a\", \"b\", \"c\",\"a\"}\n",
        "#first_set.add(\"d\")\n",
        "#first_set.add(\"a\")\n",
        "\n",
        "print (first_set)"
      ],
      "execution_count": 0,
      "outputs": []
    },
    {
      "cell_type": "code",
      "metadata": {
        "id": "_Hp7BcyRwc-K",
        "colab_type": "code",
        "colab": {}
      },
      "source": [
        "first_set = {\"a\", \"b\", \"c\"}\n",
        "second_set = {\"d\", \"e\", \"f\"}\n",
        " \n",
        "x = first_set.union(second_set)\n",
        "print  (x)\n",
        "\n"
      ],
      "execution_count": 0,
      "outputs": []
    },
    {
      "cell_type": "code",
      "metadata": {
        "id": "Cpt2vLKDw4Rx",
        "colab_type": "code",
        "colab": {}
      },
      "source": [
        "first_set = {\"a\", \"b\", \"c\"}\n",
        "second_set = {\"a\", \"b\", \"f\"}\n",
        " \n",
        "first_set.union(second_set)"
      ],
      "execution_count": 0,
      "outputs": []
    },
    {
      "cell_type": "code",
      "metadata": {
        "id": "YQBJfrEFw-7E",
        "colab_type": "code",
        "colab": {}
      },
      "source": [
        "first_set = {\"a\", \"b\", \"c\"}\n",
        "second_set = {\"a\", \"b\", \"f\"}\n",
        " \n",
        "first_set.intersection(second_set)"
      ],
      "execution_count": 0,
      "outputs": []
    },
    {
      "cell_type": "code",
      "metadata": {
        "id": "iuYssXNUxJc8",
        "colab_type": "code",
        "colab": {}
      },
      "source": [
        "first_set = {\"a\", \"b\", \"c\"}\n",
        "second_set = {\"a\", \"b\", \"f\"}\n",
        " \n",
        "print(first_set -(second_set))\n",
        "\n",
        "print(first_set.difference(second_set))"
      ],
      "execution_count": 0,
      "outputs": []
    },
    {
      "cell_type": "code",
      "metadata": {
        "id": "8KOKaQNcvbkm",
        "colab_type": "code",
        "colab": {}
      },
      "source": [
        ""
      ],
      "execution_count": 0,
      "outputs": []
    },
    {
      "cell_type": "markdown",
      "metadata": {
        "id": "XgvMeuN18Go3",
        "colab_type": "text"
      },
      "source": [
        "# List Slices"
      ]
    },
    {
      "cell_type": "code",
      "metadata": {
        "id": "L2Qm38BB9MD9",
        "colab_type": "code",
        "colab": {}
      },
      "source": [
        "# List slices provides a advanced mechanism for accessing values from list\n",
        "# using colon notation\n",
        "\n",
        "\n",
        "squared = [0,1,4,9,16,25,36,49,64,81]\n",
        "\n",
        "print (squared[2:6]) # prints the value at index 2,3,4,5 \n",
        "print (squared[:6])  # prints the value at index 0,1,2,3,4,5\n",
        "print (squared[3:])  # prints all the value from 3 till end\n",
        "\n",
        "print (squared[0:1])  # prints the value at index 0\n"
      ],
      "execution_count": 0,
      "outputs": []
    },
    {
      "cell_type": "code",
      "metadata": {
        "id": "nK7zPHyx-tht",
        "colab_type": "code",
        "colab": {}
      },
      "source": [
        "# List slices can also have the third argument which represents the step\n",
        "\n",
        "squared = [0,1,4,9,16,25,36,49,64,81]\n",
        "\n",
        "print (squared[::2]) # prints alternate values\n",
        "\n",
        "# 0 1 2 3 04 05 06 07 08\n",
        "# 0 1 4 9 16 25 36 49 64\n",
        "\n",
        "print (squared[2:8:3]) # prints from 2 to 7 with step of 3\n",
        "\n",
        "\n",
        "\n"
      ],
      "execution_count": 0,
      "outputs": []
    },
    {
      "cell_type": "code",
      "metadata": {
        "id": "Wk16xT2pAsRF",
        "colab_type": "code",
        "colab": {}
      },
      "source": [
        "# List slices can also be negative\n",
        "\n",
        "squared = [0,1,4,9,16,25,36,49,64,81]\n",
        "\n",
        "print (squared[1:-1])   # Goes from start to one to -1(last), -1 is not included.\n",
        "print (squared[:-1])\n",
        "\n",
        "print (squared[:-1:2])\n",
        "\n",
        "\n",
        "#Reversing a list\n",
        "\n",
        "print (squared[9::-1])\n",
        "\n",
        "print (squared[len(squared)::-1])\n",
        "\n",
        "print (squared[::-1])\n",
        "\n",
        "\n",
        "\n",
        "\n",
        "\n"
      ],
      "execution_count": 0,
      "outputs": []
    },
    {
      "cell_type": "code",
      "metadata": {
        "id": "64daMaafvzxL",
        "colab_type": "code",
        "colab": {}
      },
      "source": [
        "# One can also copy a list using list slicing.\n",
        "\n",
        "\n",
        "list = ['cat', 0, 6.7]\n",
        "\n",
        "# copying a list using slicing\n",
        "new_list = list[:]\n",
        "\n",
        "# Adding element to the new list\n",
        "new_list.append('dog')\n",
        "\n",
        "# Printing new and old list\n",
        "print('Old List: ', list)\n",
        "print('New List: ', new_list)"
      ],
      "execution_count": 0,
      "outputs": []
    },
    {
      "cell_type": "markdown",
      "metadata": {
        "id": "FW_A-TYyBork",
        "colab_type": "text"
      },
      "source": [
        "#List Comprehension"
      ]
    },
    {
      "cell_type": "code",
      "metadata": {
        "id": "TTJMYkFTBw5_",
        "colab_type": "code",
        "colab": {}
      },
      "source": [
        "# List comprehensions are useful way for creating lists with a simple rule\n",
        "\n",
        "# Pythonic way\n",
        "square = [a* a for a in range(5)]\n",
        "print (square)\n",
        "\n",
        "\n",
        "# Without list comprehension\n",
        "square_list =[]\n",
        "for a in range(5):\n",
        "  square_list.append(a*a)\n",
        "print(square)  \n",
        "  \n",
        "  \n",
        "  "
      ],
      "execution_count": 0,
      "outputs": []
    },
    {
      "cell_type": "code",
      "metadata": {
        "id": "9f0wud_KCcdC",
        "colab_type": "code",
        "colab": {}
      },
      "source": [
        "# An if statement can also be used in list comprehension\n",
        "\n",
        "# Pythonic way\n",
        "square = [a* a for a in range(5) if a%3 == 0]\n",
        "print (square)\n",
        "\n",
        "\n",
        "# Without list comprehension\n",
        "square_list =[]\n",
        "for a in range(5):\n",
        "  if a%3 == 0:\n",
        "    square_list.append(a*a)\n",
        "    \n",
        "print(square) \n",
        "\n"
      ],
      "execution_count": 0,
      "outputs": []
    },
    {
      "cell_type": "markdown",
      "metadata": {
        "id": "0ml4a7_7QcP-",
        "colab_type": "text"
      },
      "source": [
        "**Dictionary Comprehension**\n",
        "\n",
        "\n"
      ]
    },
    {
      "cell_type": "code",
      "metadata": {
        "id": "gKqImIjwQi5Z",
        "colab_type": "code",
        "colab": {}
      },
      "source": [
        "\n",
        "# Python code to demonstrate dictionary  \n",
        "# comprehension \n",
        "  \n",
        "# Lists to represent keys and values \n",
        "keys = ['a','b','c','d','e'] \n",
        "values = [1,2,3,4,5]   \n",
        "\n",
        "print (list(zip(keys, values)))\n",
        "  \n",
        "# but this line shows dict comprehension here   \n",
        "myDict = { k:v for (k,v) in zip(keys, values)}   \n",
        "  \n",
        "# We can use below too \n",
        "# myDict = dict(zip(keys, values))   \n",
        "  \n",
        "print (myDict) "
      ],
      "execution_count": 0,
      "outputs": []
    },
    {
      "cell_type": "markdown",
      "metadata": {
        "id": "gGmoZ5jCDVuf",
        "colab_type": "text"
      },
      "source": [
        "#Formatting of  Strings"
      ]
    },
    {
      "cell_type": "code",
      "metadata": {
        "id": "PsHciYW2De4e",
        "colab_type": "code",
        "colab": {}
      },
      "source": [
        "nums = [1,2,3]\n",
        "\n",
        "out = \"The numbers are {},{},{}\".format(nums[0],nums[1],nums[2])\n",
        "print (out)\n",
        "\n",
        "\n",
        "\n",
        "# named arguments can also be used\n",
        "out = \"The numbers are {a},{b},{c}\".format(b=nums[1],a=nums[0],c=nums[2])\n",
        "print (out)\n",
        "\n",
        "\n"
      ],
      "execution_count": 0,
      "outputs": []
    },
    {
      "cell_type": "markdown",
      "metadata": {
        "id": "sS1hfzqBEokE",
        "colab_type": "text"
      },
      "source": [
        "# Python String Functions"
      ]
    },
    {
      "cell_type": "code",
      "metadata": {
        "id": "S59BAL29ExF-",
        "colab_type": "code",
        "colab": {}
      },
      "source": [
        "\n",
        "\n",
        "\n",
        "str = \",\".join([\"Life\",\"is\",\"good\"])  # joins all the words in list with comma\n",
        "print (str)\n",
        "\n",
        "str = \"Life is good\".replace(\"good\",\"strange\")  # replace all occurences of good with strange\n",
        "print (str)\n",
        "\n",
        "str = \"Hello World. Hello Python\".replace(\"Hello\",\"Namaste\")  # replace all occurences of Hello with Namaste\n",
        "print (str)\n",
        "\n",
        "\n",
        "bool = \"Hello World. Hello Python\".startswith(\"Hello\")  # Checks if string starts with Hello\n",
        "print (bool)\n",
        "\n",
        "bool = \"Hello World. Hello Python\".endswith(\"Python\")  # Checks if string ends with Python\n",
        "print (bool)\n",
        "\n",
        "\n",
        "str = \"The world is flat\"\n",
        "x = \"is\" in str\n",
        "print (x)\n",
        "\n",
        "\n",
        "str = \"The world is flat ld\"\n",
        "x = str.find('ld')\n",
        "print (x)\n",
        "\n",
        "str = \"The world is flat\"\n",
        "x = str.find('is flat')\n",
        "print (x)\n",
        "\n"
      ],
      "execution_count": 0,
      "outputs": []
    },
    {
      "cell_type": "code",
      "metadata": {
        "id": "iMKc9TcWHCt3",
        "colab_type": "code",
        "colab": {}
      },
      "source": [
        "upper = \"hello world\".upper()\n",
        "print (upper)\n",
        "\n",
        "lower = \"HELLO world\".lower()\n",
        "print (lower)\n",
        "\n",
        "lower = \"hello world\".capitalize()\n",
        "print (lower)\n",
        "\n",
        "list = \"Lion, Tiger,Elephant\".split(\",\")\n",
        "print(list)\n",
        "\n",
        "\n",
        "list = \"Lion * Tiger  * Elephant\".split(\"*\")\n",
        "print(list)\n",
        "\n",
        "list = \"Lion * Tiger  * Elephant\".split()\n",
        "print(list)"
      ],
      "execution_count": 0,
      "outputs": []
    },
    {
      "cell_type": "markdown",
      "metadata": {
        "id": "t_guL_LLS3KU",
        "colab_type": "text"
      },
      "source": [
        "* Combining String Split and Comprehension\"[link text](https://)"
      ]
    },
    {
      "cell_type": "code",
      "metadata": {
        "id": "2tGf26MNSi5Q",
        "colab_type": "code",
        "colab": {}
      },
      "source": [
        "list = \"Lion, Tiger,Elephant\".split(\",\")\n",
        "print(list)\n",
        "\n",
        "myDict = { k:v for (k,v) in enumerate(list)}\n",
        "print(myDict)"
      ],
      "execution_count": 0,
      "outputs": []
    },
    {
      "cell_type": "markdown",
      "metadata": {
        "id": "MSgC2KsLHvPw",
        "colab_type": "text"
      },
      "source": [
        "# Python Numeric Functions"
      ]
    },
    {
      "cell_type": "code",
      "metadata": {
        "id": "tAAvChDuHy6G",
        "colab_type": "code",
        "colab": {}
      },
      "source": [
        "list = [1,4,6,7]\n",
        "\n",
        "print (\"The minimum is\",min(list))\n",
        "print (\"The maximum is\",max(list))\n",
        "print (\"The sum is\",sum(list))\n",
        "\n",
        "\n",
        "print (abs(-10))\n"
      ],
      "execution_count": 0,
      "outputs": []
    },
    {
      "cell_type": "markdown",
      "metadata": {
        "id": "pILfuaAnI52V",
        "colab_type": "text"
      },
      "source": [
        ""
      ]
    },
    {
      "cell_type": "markdown",
      "metadata": {
        "id": "CYLWbXnb8iS-",
        "colab_type": "text"
      },
      "source": [
        "# Python List Functions"
      ]
    },
    {
      "cell_type": "code",
      "metadata": {
        "id": "ccu0c48tIsbU",
        "colab_type": "code",
        "colab": {}
      },
      "source": [
        "#Return Value from any()\n",
        "#The any method returns:\n",
        "\n",
        "# True if at least one element of an iterable is true\n",
        "# False if all elements are false or if an iterable is empty\n",
        "\n",
        "\n",
        "l = [22,33,45,67,54]\n",
        "\n",
        "print(any(l))  # Print True\n",
        "\n",
        "l = [0]\n",
        "print(any(l))  # Print False\n",
        "\n",
        "l = [-1]\n",
        "print(any(l))  # Print True\n",
        "\n",
        "\n",
        "\n",
        "l = [0, False]\n",
        "print(any(l))  # Print False   \n",
        "\n",
        "l = [0, False, 5] #Print True \n",
        "print(any(l))\n",
        "\n",
        "\n",
        "l = []          #Print False \n",
        "print(any(l))\n",
        "\n",
        "\n"
      ],
      "execution_count": 0,
      "outputs": []
    },
    {
      "cell_type": "code",
      "metadata": {
        "id": "YYqk4kOS943-",
        "colab_type": "code",
        "colab": {}
      },
      "source": [
        "# To find if any one of the number is greater than 30\n",
        "\n",
        "l = [22,33,45,67,54]\n",
        "\n",
        "print([ i > 30 for i in l])\n",
        "\n",
        "any([ i > 30 for i in l])"
      ],
      "execution_count": 0,
      "outputs": []
    },
    {
      "cell_type": "code",
      "metadata": {
        "id": "6WibbGm4-QXr",
        "colab_type": "code",
        "colab": {}
      },
      "source": [
        "# Any with strings\n",
        "\n",
        "s = \"This is good\"\n",
        "print(any(s))\n",
        "\n",
        "# 0 is False\n",
        "# '0' is True\n",
        "s = '000'\n",
        "print(any(s))\n",
        "\n",
        "s = ''\n",
        "print(any(s))   # only empty string is false"
      ],
      "execution_count": 0,
      "outputs": []
    },
    {
      "cell_type": "code",
      "metadata": {
        "id": "HN64JI63-jW-",
        "colab_type": "code",
        "colab": {}
      },
      "source": [
        "# Any with dictonaries\n",
        "\n",
        "d = {0: 'False'}\n",
        "print(any(d))   #False\n",
        "\n",
        "d = {0: 'False', 1: 'True'}\n",
        "print(any(d))   #True\n",
        "\n",
        "d = {0: 'False', False: 0}\n",
        "print(any(d))  #False\n",
        "\n",
        "d = {}\n",
        "print(any(d))  #False\n",
        "\n",
        "# 0 is False\n",
        "# '0' is True\n",
        "d = {'0': 'False'}\n",
        "print(any(d))  #true"
      ],
      "execution_count": 0,
      "outputs": []
    },
    {
      "cell_type": "code",
      "metadata": {
        "id": "L0NftRyX-8nM",
        "colab_type": "code",
        "colab": {}
      },
      "source": [
        "#Return Value from all()\n",
        "#The all() method returns:\n",
        "\n",
        "#True - If all elements in an iterable are true\n",
        "#False - If any element in an iterable is false\n",
        "\n",
        "\n",
        "# all values true\n",
        "l = [1, 3, 4, 5]\n",
        "print(all(l))    #Prints True\n",
        "\n",
        "# all values false\n",
        "l = [0, False]\n",
        "print(all(l))    #Prints False\n",
        "\n",
        "# one false value\n",
        "l = [1, 3, 4, 0]\n",
        "print(all(l))      #Prints False\n",
        "\n",
        "# one true value\n",
        "l = [0, False, 5]\n",
        "print(all(l))       #Prints False\n",
        "\n",
        "# empty iterable\n",
        "l = []\n",
        "print(all(l))     #Prints True"
      ],
      "execution_count": 0,
      "outputs": []
    },
    {
      "cell_type": "code",
      "metadata": {
        "id": "AR6-0xUx_cah",
        "colab_type": "code",
        "colab": {}
      },
      "source": [
        "\n",
        "# All with string\n",
        "\n",
        "s = \"This is good\"\n",
        "print(all(s))\n",
        "\n",
        "# 0 is False\n",
        "# '0' is True\n",
        "s = '000'\n",
        "print(all(s))\n",
        "\n",
        "s = ''\n",
        "# print(all(s))"
      ],
      "execution_count": 0,
      "outputs": []
    },
    {
      "cell_type": "code",
      "metadata": {
        "id": "gTmbd6RN_nyL",
        "colab_type": "code",
        "colab": {}
      },
      "source": [
        "# All with dictionaries\n",
        "\n",
        "s = {0: 'False', 1: 'False'}\n",
        "print(all(s))\n",
        "\n",
        "s = {1: 'True', 2: 'True'}\n",
        "print(all(s))\n",
        "\n",
        "s = {1: 'True', False: 0}\n",
        "print(all(s))\n",
        "\n",
        "s = {}\n",
        "print(all(s))\n",
        "\n",
        "# 0 is False\n",
        "# '0' is True\n",
        "s = {'0': 'True'}\n",
        "print(all(s))"
      ],
      "execution_count": 0,
      "outputs": []
    },
    {
      "cell_type": "code",
      "metadata": {
        "id": "iHVokYM2_eFT",
        "colab_type": "code",
        "colab": {}
      },
      "source": [
        "# Enumerate function\n",
        "\n",
        "nums = [4,8,12,16]\n",
        "\n",
        "# t is a tuple of value and index\n",
        "\n",
        "for t in enumerate(nums):\n",
        "    print(t)\n",
        "print ('-----------------')\n"
      ],
      "execution_count": 0,
      "outputs": []
    },
    {
      "cell_type": "markdown",
      "metadata": {
        "id": "iMu_RoDpUCU5",
        "colab_type": "text"
      },
      "source": [
        "# Object Oriented Programming"
      ]
    },
    {
      "cell_type": "code",
      "metadata": {
        "id": "xkdKCyObURC4",
        "colab_type": "code",
        "colab": {}
      },
      "source": [
        "# Object oriented programming considers objects storing data  and methods\n",
        "# A program is considered as interaction of objects\n",
        "\n",
        "# A class is objects blueprint - description or defnition\n",
        "# Classes are created using keyword class and indented block \n",
        "# which contains class methods"
      ],
      "execution_count": 0,
      "outputs": []
    },
    {
      "cell_type": "code",
      "metadata": {
        "id": "qF3bwdUVUvnl",
        "colab_type": "code",
        "colab": {}
      },
      "source": [
        "class Philospher:\n",
        "  \n",
        "  # The class has two attributes name and country\n",
        "    \n",
        "  \n",
        "  # init method is called when the object is getting created\n",
        "  # It has self argument passed as the first parameter\n",
        "  # self  represents the instance\n",
        "  \n",
        "  def __init__(self, name,country):   # This is the contructor\n",
        "    self.name = name                  \n",
        "    self.country = country\n",
        "    \n",
        "    \n",
        "russell = Philospher('Bertrand Rusell', 'United Kingdom')   \n",
        "print(russell.name,russell.country)\n",
        "\n",
        "panini =  Philospher('Panini', 'India')   \n",
        "print(panini.name,panini.country)\n",
        "  "
      ],
      "execution_count": 0,
      "outputs": []
    },
    {
      "cell_type": "code",
      "metadata": {
        "id": "v8tII-b-YFLC",
        "colab_type": "code",
        "colab": {}
      },
      "source": [
        "# Classes can have methods\n",
        "\n",
        "class Philospher:\n",
        "  \n",
        "  def __init__(self, name,country):   # This is the contructor\n",
        "    self.name = name                  \n",
        "    self.country = country\n",
        "  \n",
        "  def show_details(self):\n",
        "    print('name = {},country = {}'.format(self.name,self.country))\n",
        "    \n",
        "russell = Philospher('Bertrand Russell', 'United Kingdom')   \n",
        "russell.show_details() # Note that one need not pass self\n",
        "\n",
        "\n",
        "   \n",
        "    \n",
        "    \n",
        "    "
      ],
      "execution_count": 0,
      "outputs": []
    },
    {
      "cell_type": "code",
      "metadata": {
        "id": "xlZ9DqbmGTf2",
        "colab_type": "code",
        "colab": {}
      },
      "source": [
        ""
      ],
      "execution_count": 0,
      "outputs": []
    },
    {
      "cell_type": "code",
      "metadata": {
        "id": "5dfl-QfiagqR",
        "colab_type": "code",
        "colab": {}
      },
      "source": [
        "# There can also be class level attributes\n",
        "\n",
        "class Philospher:\n",
        "  \n",
        "  count = 0   # class level attribute. It is attached to all instances\n",
        "  \n",
        "  def __init__(self, name,country):   # This is the contructor\n",
        "    self.name = name                  \n",
        "    self.country = country\n",
        "    Philospher.count = Philospher.count+1  # The class level attribute is increased\n",
        "  \n",
        "  def show_details(self):\n",
        "    print('name = {},country = {}'.format(self.name,self.country))\n",
        "    \n",
        "    \n",
        "russell = Philospher('Bertrand Russell', 'United Kingdom')\n",
        "panini =  Philospher('Panini', 'India') \n",
        "\n",
        "print ('The Philospher count is',Philospher.count)\n",
        "\n",
        "print ('The Philospher count is',russell.count) # A instance refrence to count points to the class count\n",
        "print ('The Philospher count is',panini.count) # A instance refrence to count points to the class count\n"
      ],
      "execution_count": 0,
      "outputs": []
    },
    {
      "cell_type": "code",
      "metadata": {
        "id": "4YINNnzKdHyH",
        "colab_type": "code",
        "colab": {}
      },
      "source": [
        "# Trying to access an attribute which does not exist causes an attribute error\n",
        "\n",
        "\n",
        "\n",
        "class Philospher:\n",
        "  \n",
        "  count = 0   \n",
        "  \n",
        "  def __init__(self, name,country):   # This is the contructor\n",
        "    self.name = name                  \n",
        "    self.country = country\n",
        "    Philospher.count = Philospher.count+1  \n",
        "  \n",
        "  def show_details(self):\n",
        "    print('name = {},country = {}'.format(self.name,self.country))\n",
        "    \n",
        "    \n",
        "russell = Philospher('Bertrand Russell', 'United Kingdom')\n",
        "russell.town # Town does not exist\n",
        "  "
      ],
      "execution_count": 0,
      "outputs": []
    },
    {
      "cell_type": "code",
      "metadata": {
        "id": "nXWUyzGE9r7j",
        "colab_type": "code",
        "colab": {}
      },
      "source": [
        "class JwelleryShop:\n",
        "    \n",
        "      def __init__(self, name,location):  \n",
        "        self.name = name                  \n",
        "        self.location = location\n",
        "        \n",
        "        \n",
        "\n",
        "x =  JwelleryShop('Bhima', ' Jayanagar')       \n",
        "print(x.name, x.loaction)\n",
        "\n",
        "y =  JwelleryShop('AVR', ' J P Nagar')       \n",
        "print(y.name, y.loaction)\n",
        "        "
      ],
      "execution_count": 0,
      "outputs": []
    },
    {
      "cell_type": "markdown",
      "metadata": {
        "id": "7pkmukj4dpem",
        "colab_type": "text"
      },
      "source": [
        "# Inheritance"
      ]
    },
    {
      "cell_type": "code",
      "metadata": {
        "id": "W4lW9pjYdyKb",
        "colab_type": "code",
        "colab": {}
      },
      "source": [
        "#Inheritance allows class to share functionality between classes\n",
        "\n",
        "\n",
        "class Philospher:\n",
        "  \n",
        "  count = 0   \n",
        "  \n",
        "  def __init__(self, name,country):   # This is the contructor\n",
        "    self.name = name                  \n",
        "    self.country = country\n",
        "    Philospher.count = Philospher.count+1  \n",
        "  \n",
        "  def show_details(self):\n",
        "    print('name = {},country = {}'.format(self.name,self.country))\n",
        "    \n",
        "    \n",
        "class GreekPhilospher(Philospher):\n",
        "  \n",
        "  def  __init__(self, name,country,details):\n",
        "      Philospher.__init__(self, name,country)  # The base class constructor is called\n",
        "      self.details = details\n",
        "      \n",
        "  def show_details(self):\n",
        "    print('name = {},country = {}, philosophy={} '.format(self.name,self.country,self.details))    \n",
        "      \n",
        "      \n",
        "plato = GreekPhilospher('Plato','Greece','After Death Philosophy')\n",
        "plato.show_details()\n",
        "    "
      ],
      "execution_count": 0,
      "outputs": []
    },
    {
      "cell_type": "code",
      "metadata": {
        "id": "gE4IH40MhVhE",
        "colab_type": "code",
        "colab": {}
      },
      "source": [
        "# The function super can be used to call the parent class function\n",
        "\n",
        "class Philospher:\n",
        "  \n",
        "  count = 0   \n",
        "  \n",
        "  def __init__(self, name,country):   # This is the contructor\n",
        "    self.name = name                  \n",
        "    self.country = country\n",
        "    Philospher.count = Philospher.count+1  \n",
        "  \n",
        "  def show_details(self):\n",
        "    print('name = {},country = {}'.format(self.name,self.country))\n",
        "    \n",
        "    \n",
        "class GreekPhilospher(Philospher):\n",
        "  \n",
        "  def  __init__(self, name,country,details):\n",
        "      Philospher.__init__(self, name,country)  # The base class constructor is called\n",
        "      self.details = details\n",
        "      \n",
        "  def show_details(self):\n",
        "    super().show_details()   # Super invokes the parent Philospher show detail function\n",
        "    print('The special philosophy is {} '.format(self.details))   \n",
        "    \n",
        "    \n",
        "plato = GreekPhilospher('Plato','Greece','After Death Philosophy')\n",
        "plato.show_details()\n",
        "      "
      ],
      "execution_count": 0,
      "outputs": []
    },
    {
      "cell_type": "markdown",
      "metadata": {
        "id": "YXvyT-DfkI6S",
        "colab_type": "text"
      },
      "source": [
        "# Magic Methods\n"
      ]
    },
    {
      "cell_type": "code",
      "metadata": {
        "id": "nUtma6oq1h-f",
        "colab_type": "code",
        "colab": {}
      },
      "source": [
        "# Magic methods are special methods which have double underscores at begining and\n",
        "# end of their names. They are known as dunders\n",
        "\n",
        "class MegaNumber:\n",
        "  \n",
        "  def __init__(self, x,y):  # constructor also treated as magic operation\n",
        "    self.x = x\n",
        "    self.y = y\n",
        "    \n",
        "  def __add__(self, othermeganumber):\n",
        "      return MegaNumber(self.x+ othermeganumber.x, self.y+othermeganumber.y)\n",
        "    \n",
        "  def myaddition (self, othermeganumber):\n",
        "      return MegaNumber(self.x+ othermeganumber.x, self.y+othermeganumber.y)  \n",
        "  \n",
        "  \n",
        "first  =  MegaNumber(10,12)\n",
        "\n",
        "print(first.x)\n",
        "\n",
        "second =  MegaNumber(20,40)\n",
        "print(second.x)\n",
        "\n",
        "print('**',first.x+second.x, first.y+second.y)\n",
        "\n",
        "third = first.myaddition(second)\n",
        "\n",
        "third = first + second  # the + operation gets executed by __add__\n",
        "  \n",
        "print(third.x, third.y)\n",
        "    \n",
        "    "
      ],
      "execution_count": 0,
      "outputs": []
    },
    {
      "cell_type": "code",
      "metadata": {
        "id": "TNtJzKDdEb8o",
        "colab_type": "code",
        "colab": {}
      },
      "source": [
        ""
      ],
      "execution_count": 0,
      "outputs": []
    },
    {
      "cell_type": "markdown",
      "metadata": {
        "id": "h3dF5PwW4OfL",
        "colab_type": "text"
      },
      "source": [
        " There are many more magic methods\n",
        " \n",
        "__sub__ for  -\n",
        "\n",
        "__mul__ for mul\n",
        "\n",
        "__truediv__ for /\n",
        "\n",
        "Please look at documentation for all the magic methods.\n",
        "\n",
        "There are also magic methods for making classes act like containers\n",
        "\n",
        "__len__ for len()\n",
        "__getitem__ for indexing\n",
        "__setitem__ for assigning to indexed values\n",
        "\n",
        "__iter__ for iteration over objects\n",
        "__contains_ for in\n"
      ]
    },
    {
      "cell_type": "markdown",
      "metadata": {
        "id": "23axBoe2AXZ9",
        "colab_type": "text"
      },
      "source": [
        "# Object Lifecycle"
      ]
    },
    {
      "cell_type": "code",
      "metadata": {
        "id": "Itomsw2V4NUk",
        "colab_type": "code",
        "colab": {}
      },
      "source": [
        "# An object follows the lifecycle of \n",
        "# creation, usage and destruction\n",
        "\n",
        "# The first stage is definition of class\n",
        "# The next stage is instantiation where _init_ is called\n",
        "# Before  _init_ a __new__ is called\n",
        "\n",
        "\n",
        "class Philospher:  # => Defnition of class\n",
        "    \n",
        "        \n",
        "  def __init__(self, name,country):   # This is the contructor\n",
        "    self.name = name                  \n",
        "    self.country = country\n",
        "    print (\"Inside  Constructor\")\n",
        "\n",
        "    \n",
        "  def __new__(cls, *args, **kwargs):\n",
        "    print (\"Executing __new__\")\n",
        "    instance = super(Philospher, cls).__new__(cls)\n",
        "    return instance   \n",
        "    \n",
        "russell = Philospher('Bertrand Russell', 'United Kingdom')   # This triggers call to __new and __init__\n",
        "print(russell.name,russell.country)\n"
      ],
      "execution_count": 0,
      "outputs": []
    },
    {
      "cell_type": "code",
      "metadata": {
        "id": "sPDgSAQjZvKa",
        "colab_type": "code",
        "colab": {}
      },
      "source": [
        "# When an object is destroyed the memory allocated is freed up.\n",
        "\n",
        "# Destruction of an object only occurs when its refrence counts reaches zero\n",
        "# Reference count means number of variable and objects refrencing to the object\n",
        "# del statement reduces the count of an object\n",
        "\n",
        "# when an object refrences count is 0, python garbage collects it.\n",
        "\n",
        "\n",
        "b = 90  # Create Object\n",
        "print (b)\n",
        "\n",
        "c = b   # Increase ref, ref = 1\n",
        "print (c)\n",
        "\n",
        "d = [b] # Increase ref, ref = 2\n",
        "print (d)\n",
        "\n",
        "del b # decreases ref but still two objects are refering it\n",
        "\n",
        "print (c)\n",
        "print (d)\n",
        "\n",
        "c = 80   #remove refrence to b\n",
        "d[0] = -1 #remove refrence to b. At the stage the memory allocated for b can be garbage collected.\n",
        "\n",
        "\n"
      ],
      "execution_count": 0,
      "outputs": []
    },
    {
      "cell_type": "markdown",
      "metadata": {
        "id": "BF2jcswHb70f",
        "colab_type": "text"
      },
      "source": [
        "# Data Hiding\n"
      ]
    },
    {
      "cell_type": "markdown",
      "metadata": {
        "id": "wzYak2WHdkpX",
        "colab_type": "text"
      },
      "source": [
        "The key principle of data hiding is that implementation details of the classes should not be exposed out.\n",
        "One want to use the object and not get bogged with internal details of the object. This is generally implemented using the concepts of public, private and protected.\n",
        "\n",
        "Python does not implement strict private methods as we will see. It does not have protected methods.\n"
      ]
    },
    {
      "cell_type": "code",
      "metadata": {
        "id": "BRbv5fVDeVMV",
        "colab_type": "code",
        "colab": {}
      },
      "source": [
        "# Weak private method and attributes have single underscore at begining\n",
        "# This is a signal that it should not be used by external code.\n",
        "# It is only a matter of convention.\n",
        "\n",
        "\n",
        "class Philospher:  # => Defnition of class\n",
        "      \n",
        "  def __init__(self, name,country):   # This is the contructor\n",
        "    self._name = name              # Weak Attribute     \n",
        "    self._country = country        # Weak Attribute       \n",
        "   \n",
        "  def __repr__ (self):  # magic method for representing object as string\n",
        "    str = \"Name ={}, Country ={}\".format(self._name,self._country)\n",
        "    return str\n",
        "    \n",
        "russell = Philospher('Bertrand Rusell', 'United Kingdom')  \n",
        "\n",
        "print (russell)\n",
        "\n",
        "print(russell._name,russell._country)  # We can still access the _name and _country from outside"
      ],
      "execution_count": 0,
      "outputs": []
    },
    {
      "cell_type": "code",
      "metadata": {
        "id": "yNiQBicGhkSD",
        "colab_type": "code",
        "colab": {}
      },
      "source": [
        "# Strong private methods and attributes have double underscore at begining of their names\n",
        "# This causes their names to be mangled and hence cannot be accessed fromm outside.\n",
        "\n",
        "class Philospher:  # => Defnition of class\n",
        "      \n",
        "  def __init__(self, name,country):   # This is the contructor\n",
        "    self.__name = name                  \n",
        "    self.__country = country\n",
        "   \n",
        "  def __repr__ (self):  # magic method for representing object as string\n",
        "    str = \"Name ={}, Country ={}\".format(self.__name,self.__country)\n",
        "    return str\n",
        "  \n",
        "russell = Philospher('Bertrand Rusell', 'United Kingdom')\n",
        "\n",
        "\n",
        "print(russell._Philospher__name) # By using mangled structure one can access the name\n",
        "print(russell.__name)  # This cannot be accessed from outside\n",
        "\n",
        "\n",
        "  \n",
        "  \n"
      ],
      "execution_count": 0,
      "outputs": []
    },
    {
      "cell_type": "markdown",
      "metadata": {
        "id": "5iH99CeJkXEw",
        "colab_type": "text"
      },
      "source": [
        "# Class and Static Methods"
      ]
    },
    {
      "cell_type": "code",
      "metadata": {
        "id": "TLOlq2Tskd9D",
        "colab_type": "code",
        "colab": {}
      },
      "source": [
        "# Class methods have class parameter passed to it.\n",
        "# Instead of accepting a self parameter, class methods take a cls parameter that points to the class—and not the object instance—when the method is called.\n",
        "\n",
        "class Philospher:\n",
        "  \n",
        "  count = 0   # class level attribute. It is attached to all instances\n",
        "  \n",
        "  def __init__(self, name,country):   # This is the contructor\n",
        "    self.name = name                  \n",
        "    self.country = country\n",
        "    Philospher.count = Philospher.count+1  # The class level attribute is increased\n",
        "    \n",
        "  @classmethod\n",
        "  def show_count(cls):\n",
        "    print('The number of philosphers are {}'.format(cls.count))\n",
        "    \n",
        "  \n",
        "  \n",
        "  def print_in_fancy_style(philospher): #static method \n",
        "    # static method do not have self passed.\n",
        "    print('****** The philospher name is {} ***'.format(philospher.name))  \n",
        "  \n",
        "  def show_count_static(): #static methods don't have access to class methods\n",
        "    print('The number of philosphers are {}'.format(count))  \n",
        "    \n",
        "  \n",
        "  \n",
        "    \n",
        "    \n",
        "russell = Philospher('Bertrand Russell', 'United Kingdom')\n",
        "panini =  Philospher('Panini', 'India') \n",
        "\n",
        "Philospher.show_count()\n",
        "Philospher.print_in_fancy_style(russell)\n",
        "\n",
        "Philospher.show_count_static()  # This produces error\n",
        "\n",
        "\n",
        "\n"
      ],
      "execution_count": 0,
      "outputs": []
    },
    {
      "cell_type": "markdown",
      "metadata": {
        "id": "j2Tn0zzDNMT9",
        "colab_type": "text"
      },
      "source": [
        "#Properties"
      ]
    },
    {
      "cell_type": "code",
      "metadata": {
        "id": "67uVT785NWBR",
        "colab_type": "code",
        "colab": {}
      },
      "source": [
        "# Python has concept called property\n",
        "# which helps to convert class_methods to read only attributes\n",
        "# Reimplement setters and getters into an attribute\n",
        "\n",
        "\n",
        "class Philospher:\n",
        "  \n",
        "  # The class has two attributes name and country\n",
        "    \n",
        "  \n",
        "  # init method is called when the object is getting created\n",
        "  # It has self argument passed as the first parameter\n",
        "  # self  represents the instance\n",
        "  \n",
        "  def __init__(self, name,country):   # This is the contructor\n",
        "    self.name = name                  \n",
        "    self.country = country\n",
        "    \n",
        "    \n",
        "  @property\n",
        "  def name_and_country(self):\n",
        "    \"\"\"\n",
        "      Return the  name and country\n",
        "    \"\"\"\n",
        "    return \"%s %s\" % (self.name, self.country)\n",
        "  \n",
        "  \n",
        "russell = Philospher('Bertrand Russell', 'United Kingdom')\n",
        "print (russell.name_and_country)  \n",
        "\n",
        "russell.name_and_country = 'Bertrand Russell United Kingdom' # This will not work as it is readonly attribute\n",
        "\n",
        "#print (russell.name_and_country())  # will give error\n"
      ],
      "execution_count": 0,
      "outputs": []
    },
    {
      "cell_type": "code",
      "metadata": {
        "id": "Gn2RSQUcPpQ7",
        "colab_type": "code",
        "colab": {}
      },
      "source": [
        "# Reimplement setters and getters into an attribute\n",
        "\n",
        "\n",
        "from decimal import Decimal\n",
        " \n",
        "########################################################################\n",
        "class Fees(object):\n",
        "    \"\"\"\"\"\"\n",
        " \n",
        "    #----------------------------------------------------------------------\n",
        "    def __init__(self):\n",
        "        \"\"\"Constructor\"\"\"\n",
        "        self._fee = None\n",
        " \n",
        "    #----------------------------------------------------------------------\n",
        "    def get_fee(self):\n",
        "        \"\"\"\n",
        "        Return the current fee\n",
        "        \"\"\"\n",
        "        return self._fee\n",
        " \n",
        "    #----------------------------------------------------------------------\n",
        "    def set_fee(self, value):\n",
        "        \"\"\"\n",
        "        Set the fee\n",
        "        \"\"\"\n",
        "        if isinstance(value, str):\n",
        "            self._fee = Decimal(value)\n",
        "        elif isinstance(value, int):\n",
        "            self._fee = value\n",
        " \n",
        "    fee = property(get_fee, set_fee)\n",
        "  \n",
        "f = Fees()\n",
        "f.fee=\"1\"\n",
        "print (f.fee)\n",
        "\n",
        "f.fee = 2\n",
        "print(f.get_fee())\n",
        "\n",
        "  "
      ],
      "execution_count": 0,
      "outputs": []
    },
    {
      "cell_type": "code",
      "metadata": {
        "id": "DTagbTpwQ9NG",
        "colab_type": "code",
        "colab": {}
      },
      "source": [
        "from decimal import Decimal\n",
        "import types\n",
        " \n",
        "########################################################################\n",
        "class Fees(object):\n",
        "    \"\"\"\"\"\"\n",
        " \n",
        "    #----------------------------------------------------------------------\n",
        "    def __init__(self):\n",
        "        \"\"\"Constructor\"\"\"\n",
        "        self._fee = None\n",
        " \n",
        "    #----------------------------------------------------------------------\n",
        "    @property\n",
        "    def fee(self):\n",
        "        \"\"\"\n",
        "        The fee property - the getter\n",
        "        \"\"\"\n",
        "        return self._fee\n",
        " \n",
        "    #----------------------------------------------------------------------\n",
        "    @fee.setter\n",
        "    def fee(self, value):\n",
        "        \"\"\"\n",
        "        The setter of the fee property\n",
        "        \"\"\"\n",
        "        if isinstance(value, str):\n",
        "            print ('For String') \n",
        "            self._fee = Decimal(value)\n",
        "        elif isinstance(value, int):\n",
        "            print ('For Decimal') \n",
        "            self._fee = value\n",
        "f = Fees()\n",
        "\n",
        "f.fee = \"2\"\n",
        "print(f.fee)\n",
        "\n",
        "\n",
        "f.fee = 5\n",
        "print(f.fee)\n",
        "\n",
        "            "
      ],
      "execution_count": 0,
      "outputs": []
    },
    {
      "cell_type": "markdown",
      "metadata": {
        "id": "no_A0fTyUyYm",
        "colab_type": "text"
      },
      "source": [
        "\n",
        "# Regular Expressions\n",
        "\n",
        "\n",
        "a, X, 9, < -- ordinary characters just match themselves exactly. The meta-characters which do not match themselves because they have special meanings are: . ^ $ * + ? { [ ] \\ | ( )\n",
        "\n",
        ". (a period) -- matches any single character except newline '\\n'\n",
        "\n",
        "\\w -- (lowercase w) matches a \"word\" character: a letter or digit or underbar [a-zA-Z0-9_]. Note that although \"word\" is the mnemonic for this, it only matches a single word char, not a whole word. \\W (upper case W) matches any non-word character.\n",
        "\n",
        "\\b -- boundary between word and non-word\n",
        "\n",
        "\\s -- (lowercase s) matches a single whitespace character -- space, newline, return, tab, form [ \\n\\r\\t\\f]. \\S (upper case S) matches any non-whitespace character.\n",
        "\n",
        "\\t, \\n, \\r -- tab, newline, return\n",
        "\n",
        "\\d -- decimal digit [0-9] (some older regex utilities do not support but \\d, but they all support \\w and \\s)\n",
        "\n",
        "\n",
        "^ = start, $ = end -- match the start or end of the string"
      ]
    },
    {
      "cell_type": "code",
      "metadata": {
        "id": "0yHBShsTekNd",
        "colab_type": "code",
        "outputId": "9d82556e-0faf-4727-ed31-668fa1513c77",
        "colab": {
          "base_uri": "https://localhost:8080/",
          "height": 34
        }
      },
      "source": [
        "import re\n",
        "\n",
        "pattern = r\"Cookie\"\n",
        "sequence = \"Cookie is good\"\n",
        "if re.search(pattern, sequence):\n",
        "  print(\"Match!\")\n",
        "else:\n",
        "  print(\"Not a match!\")"
      ],
      "execution_count": 0,
      "outputs": [
        {
          "output_type": "stream",
          "text": [
            "Match!\n"
          ],
          "name": "stdout"
        }
      ]
    },
    {
      "cell_type": "code",
      "metadata": {
        "id": "TduKlmzHe2gc",
        "colab_type": "code",
        "colab": {}
      },
      "source": [
        "#. (a period) -- matches any single character except newline '\\n'\n",
        "\n",
        "match = re.search(r'Co.k.e', 'This is Cookie')\n",
        "if match:\n",
        "  print(\"Match\")\n",
        "  print(match.group())\n",
        "else:\n",
        "  print(\"Not a match!\")  \n",
        "\n",
        "\n",
        "\n",
        "#. (a period) -- matches any single character except newline '\\n'\n",
        "\n",
        "match = re.search(r'Co.k.e', 'This is Coxkxe')\n",
        "if match:\n",
        "  print(\"Match\")\n",
        "  print(match.group())\n",
        "else:\n",
        "  print(\"Not a match!\")  \n",
        "  \n",
        "  \n"
      ],
      "execution_count": 0,
      "outputs": []
    },
    {
      "cell_type": "code",
      "metadata": {
        "id": "UgsWooungmAL",
        "colab_type": "code",
        "outputId": "9bfb89a5-7618-45f1-d90a-303ccdcf7687",
        "colab": {
          "base_uri": "https://localhost:8080/",
          "height": 68
        }
      },
      "source": [
        "# search() versus match()\n",
        "# The match() function checks for a match only at the beginning of the string (by default)\n",
        "# whereas the search() function checks for a match anywhere in the string.\n",
        "import re\n",
        "\n",
        "match = re.match(r'Co.k.e', 'This is Cookie')\n",
        "if match:\n",
        "  print(\"Match\")\n",
        "  print(match.group())\n",
        "else:\n",
        "  print(\"Not a match!\")  \n",
        "  \n",
        "\n",
        "match = re.search(r'Co.k.e', 'This is Cookie')\n",
        "if match:\n",
        "  print(\"Match\")\n",
        "  print(match.group())\n",
        "else:\n",
        "  print(\"Not a match!\")  \n",
        "  \n",
        "  \n",
        "  \n",
        "  \n",
        "  \n",
        "  "
      ],
      "execution_count": 0,
      "outputs": [
        {
          "output_type": "stream",
          "text": [
            "Not a match!\n",
            "Match\n",
            "Cookie\n"
          ],
          "name": "stdout"
        }
      ]
    },
    {
      "cell_type": "code",
      "metadata": {
        "id": "G46wEwc0ksma",
        "colab_type": "code",
        "colab": {}
      },
      "source": [
        "#\\w - Lowercase w. Matches any single letter, digit or underscore.\n",
        "\n",
        "match = re.search(r'Co\\wk\\we', 'Cookie')\n",
        "if match:\n",
        "  print(\"Match\")\n",
        "  print(match.group())\n",
        "else:\n",
        "  print(\"Not a match!\")  \n",
        "  "
      ],
      "execution_count": 0,
      "outputs": []
    },
    {
      "cell_type": "code",
      "metadata": {
        "id": "dIOZpDXplBZH",
        "colab_type": "code",
        "colab": {}
      },
      "source": [
        "#\\W - Uppercase w. Matches any character not part of \\w (lowercase w).\n",
        "# @ is not part of \\w and hence becomes part of \\W\n",
        "\n",
        "match = re.search(r'C\\Wke', 'C@ke')\n",
        "if match:\n",
        "  print(\"Match\")\n",
        "  print(match.group())\n",
        "else:\n",
        "  print(\"Not a match!\")  "
      ],
      "execution_count": 0,
      "outputs": []
    },
    {
      "cell_type": "code",
      "metadata": {
        "id": "Kgp1AccmlY_D",
        "colab_type": "code",
        "colab": {}
      },
      "source": [
        "#\\s - Lowercase s. Matches a single whitespace character like: space, newline, tab, return.\n",
        "\n",
        "match = re.search(r'Eat\\scake', 'Eat cake')\n",
        "if match:\n",
        "  print(\"Match\")\n",
        "  print(match.group())\n",
        "else:\n",
        "  print(\"Not a match!\") "
      ],
      "execution_count": 0,
      "outputs": []
    },
    {
      "cell_type": "code",
      "metadata": {
        "id": "uheSyMFClyfh",
        "colab_type": "code",
        "colab": {}
      },
      "source": [
        "#\"\\S - Uppercase s. Matches any character not part of \\s (lowercase s).\n",
        "\n",
        "match = re.search(r'Cook\\Se', 'Cookie')\n",
        "if match:\n",
        "  print(\"Match\")\n",
        "  print(match.group())\n",
        "else:\n",
        "  print(\"Not a match!\") "
      ],
      "execution_count": 0,
      "outputs": []
    },
    {
      "cell_type": "code",
      "metadata": {
        "id": "c2qOjMmCmQjq",
        "colab_type": "code",
        "colab": {}
      },
      "source": [
        "#\\d - Lowercase d. Matches decimal digit 0-9.\n",
        "\n",
        "match = re.search(r'c\\d\\dkie', 'c00kie')\n",
        "if match:\n",
        "  print(\"Match\")\n",
        "  print(match.group())\n",
        "else:\n",
        "  print(\"Not a match!\") "
      ],
      "execution_count": 0,
      "outputs": []
    },
    {
      "cell_type": "code",
      "metadata": {
        "id": "oxundO8qmm1c",
        "colab_type": "code",
        "colab": {}
      },
      "source": [
        "#^ - Caret. Matches a pattern at the start of the string.\n",
        "\n",
        "match = re.search(r'^Eat', 'Eat cake')\n",
        "if match:\n",
        "  print(\"Match\")\n",
        "  print(match.group())\n",
        "else:\n",
        "  print(\"Not a match!\") "
      ],
      "execution_count": 0,
      "outputs": []
    },
    {
      "cell_type": "code",
      "metadata": {
        "id": "MvpETPFOm3Ba",
        "colab_type": "code",
        "colab": {}
      },
      "source": [
        "#$ - Matches a pattern at the end of string.\n",
        "\n",
        "match = re.search(r'cake$', 'Eat cake')\n",
        "if match:\n",
        "  print(\"Match\")\n",
        "  print(match.group())\n",
        "else:\n",
        "  print(\"Not a match!\") \n"
      ],
      "execution_count": 0,
      "outputs": []
    },
    {
      "cell_type": "code",
      "metadata": {
        "id": "uz941YPwniZt",
        "colab_type": "code",
        "colab": {}
      },
      "source": [
        "\n",
        "\n",
        "# [abc] - Matches a or b or c.\n",
        "# [a-zA-Z0-9] - Matches any letter from (a to z) or (A to Z) or (0 to 9). \n",
        "\n",
        "match = re.search(r'Number: [0-6]', 'Number: 5')\n",
        "if match:\n",
        "  print(\"Match\")\n",
        "  print(match.group())\n",
        "else:\n",
        "  print(\"Not a match!\") \n"
      ],
      "execution_count": 0,
      "outputs": []
    },
    {
      "cell_type": "code",
      "metadata": {
        "id": "acwL7Culn98r",
        "colab_type": "code",
        "colab": {}
      },
      "source": [
        "#If the first character of the set is ^, all the characters that are not in the set will be matched.\n",
        "\n",
        "match = re.search(r'Number: [^5]', 'Number: 0')\n",
        "if match:\n",
        "  print(\"Match\")\n",
        "  print(match.group())\n",
        "else:\n",
        "  print(\"Not a match!\") "
      ],
      "execution_count": 0,
      "outputs": []
    },
    {
      "cell_type": "code",
      "metadata": {
        "id": "FrgO63gsOvr3",
        "colab_type": "code",
        "colab": {}
      },
      "source": [
        "#If the first character of the set is ^, all the characters that are not in the set will be matched.\n",
        "\n",
        "match = re.search(r'Number: [^5]', 'Number: *')\n",
        "if match:\n",
        "  print(\"Match\")\n",
        "  print(match.group())\n",
        "else:\n",
        "  print(\"Not a match!\") "
      ],
      "execution_count": 0,
      "outputs": []
    },
    {
      "cell_type": "code",
      "metadata": {
        "id": "FStn68h6og97",
        "colab_type": "code",
        "colab": {}
      },
      "source": [
        "import re\n",
        "\n",
        "#\\A - Uppercase a. Matches only at the start of the string. Works across multiple lines as well\n",
        "\n",
        "match =re.search(r'\\A[A-E]ookie', 'Cookie')\n",
        "if match:\n",
        "  print(\"Match\")\n",
        "  print(match.group())\n",
        "else:\n",
        "  print(\"Not a match!\") \n",
        "\n",
        "\n",
        "match =re.search(r'^[A-E]ookie', 'Cookie')  # This will give error as caret cannot be used with range\n",
        "if match:\n",
        "  print(\"Match *******\")\n",
        "  print(match.group())\n",
        "else:\n",
        "  print(\"Not a match!******\") \n",
        "  \n",
        "  \n",
        "\n",
        "print ('---------------') \n",
        "\n",
        "match =re.search(r'[A-E]ookie', 'This is Cookie')\n",
        "if match:\n",
        "  print(\"Match\")\n",
        "  print(match.group())\n",
        "else:\n",
        "  print(\"Not a match!\") \n",
        "  \n",
        "\n",
        "print ('---------------') \n",
        "\n",
        "\n",
        "match =re.search(r'\\A[A-E]ookie', 'This is Cookie')  # This does not match as Cookie is not part of string\n",
        "if match:\n",
        "  print(\"Match\")\n",
        "  print(match.group())\n",
        "else:\n",
        "  print(\"Not a match!\")  "
      ],
      "execution_count": 0,
      "outputs": []
    },
    {
      "cell_type": "code",
      "metadata": {
        "id": "daeIGQChpUEs",
        "colab_type": "code",
        "colab": {}
      },
      "source": [
        "import re\n",
        "\n",
        "#\\b - Lowercase b. Matches only the beginning or end of the word.\n",
        "\n",
        "match =re.search(r'\\b[A-E]ookie', 'This is Cookie')\n",
        "if match:\n",
        "  print(\"Match\")\n",
        "  print(match.group())\n",
        "else:\n",
        "  print(\"Not a match!\") \n",
        "  \n",
        "print ('---------------') \n",
        "  \n",
        "match =re.search(r'\\b[A-E]ookie', 'This is YumCookie')\n",
        "if match:\n",
        "  print(\"Match\")\n",
        "  print(match.group())\n",
        "else:\n",
        "  print(\"Not a match!\")  \n",
        "  \n",
        "print ('---------------')  \n",
        "\n",
        "# This matches because there is no \\b and hence it searches in all words.\n",
        "\n",
        "match =re.search(r'[A-E]ookie', 'This is YumCookie')\n",
        "if match:\n",
        "  print(\"Match\")\n",
        "  print(match.group())\n",
        "else:\n",
        "  print(\"Not a match!\")\n",
        "\n",
        "\n",
        "\n",
        "\n",
        "match =re.search(r'\\b\\dookie', 'This is 1ookie')\n",
        "if match:\n",
        "  print(\"Match @@@@@\")\n",
        "  print(match.group())\n",
        "else:\n",
        "  print(\"Not a match! @@@@@\") "
      ],
      "execution_count": 0,
      "outputs": []
    },
    {
      "cell_type": "code",
      "metadata": {
        "id": "EmNdORSPpSB_",
        "colab_type": "code",
        "colab": {}
      },
      "source": [
        ""
      ],
      "execution_count": 0,
      "outputs": []
    },
    {
      "cell_type": "code",
      "metadata": {
        "id": "R0HsAitOoV8l",
        "colab_type": "code",
        "colab": {}
      },
      "source": [
        ""
      ],
      "execution_count": 0,
      "outputs": []
    },
    {
      "cell_type": "code",
      "metadata": {
        "id": "tR2pisfrngPx",
        "colab_type": "code",
        "colab": {}
      },
      "source": [
        ""
      ],
      "execution_count": 0,
      "outputs": []
    },
    {
      "cell_type": "code",
      "metadata": {
        "id": "8Q08Z00Om0b7",
        "colab_type": "code",
        "colab": {}
      },
      "source": [
        ""
      ],
      "execution_count": 0,
      "outputs": []
    },
    {
      "cell_type": "code",
      "metadata": {
        "id": "Rf4x2EXumvGx",
        "colab_type": "code",
        "colab": {}
      },
      "source": [
        ""
      ],
      "execution_count": 0,
      "outputs": []
    },
    {
      "cell_type": "code",
      "metadata": {
        "id": "g7-gPeSbmi7X",
        "colab_type": "code",
        "colab": {}
      },
      "source": [
        ""
      ],
      "execution_count": 0,
      "outputs": []
    },
    {
      "cell_type": "code",
      "metadata": {
        "id": "5B8I0MC7mNq0",
        "colab_type": "code",
        "colab": {}
      },
      "source": [
        ""
      ],
      "execution_count": 0,
      "outputs": []
    },
    {
      "cell_type": "code",
      "metadata": {
        "id": "MPxkT7-umMMQ",
        "colab_type": "code",
        "colab": {}
      },
      "source": [
        ""
      ],
      "execution_count": 0,
      "outputs": []
    },
    {
      "cell_type": "code",
      "metadata": {
        "id": "Cs0Ip3D9OeIZ",
        "colab_type": "code",
        "outputId": "6cdfea48-3c97-47e9-88a5-a0623b3bb04e",
        "colab": {
          "base_uri": "https://localhost:8080/",
          "height": 34
        }
      },
      "source": [
        "# In Python a regular expression search is typically written as:\n",
        "\n",
        "# match = re.search(pat, str)\n",
        "# The re.search() method takes a regular expression pattern and a string and searches for that pattern within the string. \n",
        "# If the search is successful, search() returns a match object or None otherwise\n",
        "\n",
        "\n",
        "import re\n",
        "\n",
        "str = 'an example word:cat!!'\n",
        "match = re.search(r'word:\\w\\w\\w', str)\n",
        "# If-statement after search() tests if it succeeded\n",
        "if match:\n",
        "  print ('found', match.group()) ## 'found word:cat'\n",
        "else:\n",
        "  print ('did not find')"
      ],
      "execution_count": 0,
      "outputs": [
        {
          "output_type": "stream",
          "text": [
            "found word:cat\n"
          ],
          "name": "stdout"
        }
      ]
    },
    {
      "cell_type": "code",
      "metadata": {
        "id": "Gi17DpNsPYAx",
        "colab_type": "code",
        "colab": {}
      },
      "source": [
        "  ## Search for pattern 'iii' in string 'piiig'.\n",
        "  ## All of the pattern must match, but it may appear anywhere.\n",
        "  ## On success, match.group() is matched text.\n",
        "  import re\n",
        "  \n",
        "  match = re.search(r'iii', 'piiig')    #=>  found, match.group() == \"iii\"\n",
        "  if (match):\n",
        "    print (\"Found for #1\",  match.group())\n",
        "  else:\n",
        "    print (\"Not Found for #1\")\n",
        "  \n",
        "  \n",
        "  match = re.search(r'igs', 'piiig')    # =>  not found, match == None\n",
        "  if (match):\n",
        "    print (\"Found for #2\",  match.group())\n",
        "  else:\n",
        "    print (\"Not Found for #2\")\n",
        "  \n",
        "  \n",
        "\n",
        "  ## . = any char but \\n\n",
        "  \n",
        "  match = re.search(r'..g', 'piiig')   #=>  found, match.group() == \"iig\"\n",
        "  \n",
        "  if (match):\n",
        "    print (\"Found for #3\",  match.group())\n",
        "  else:\n",
        "    print (\"Not Found for #3\")\n",
        "  \n",
        "\n",
        "  ## \\d = digit char, \\w = word char\n",
        "  match = re.search(r'\\d\\d\\d', 'p123g') #=>  found, match.group() == \"123\"\n",
        "  \n",
        "  if (match):\n",
        "    print (\"Found for #4\",  match.group())\n",
        "  else:\n",
        "    print (\"Not Found for #4\")\n",
        "  \n",
        "  \n",
        "  \n",
        "  # \\w -- (lowercase w) matches a \"word\" character: a letter or digit or underbar [a-zA-Z0-9_]. \n",
        "  # @ and ! and no part of w and hence they don't get mapped.\n",
        "  \n",
        "  match = re.search(r'\\s\\w\\w\\w', '@@abcd!! efg') #=>  found, match.group() == \"abc\"\n",
        "  \n",
        "  if (match):\n",
        "    print (\"Found for #5\",  match.group())\n",
        "  else:\n",
        "    print (\"Not Found for #5\")\n",
        "    \n",
        "    \n",
        "  "
      ],
      "execution_count": 0,
      "outputs": []
    },
    {
      "cell_type": "code",
      "metadata": {
        "id": "yflb0VmlP34Y",
        "colab_type": "code",
        "colab": {}
      },
      "source": [
        "  ## i+ = one or more i's, as many as possible.\n",
        "  match = re.search(r'pi+', 'piiig') =>  found, match.group() == \"piii\"\n",
        "\n",
        "  ## Finds the first/leftmost solution, and within it drives the +\n",
        "  ## as far as possible (aka 'leftmost and largest').\n",
        "  ## In this example, note that it does not get to the second set of i's.\n",
        "  match = re.search(r'i+', 'piigiiii') =>  found, match.group() == \"ii\"\n",
        "\n",
        "  ## \\s* = zero or more whitespace chars\n",
        "  ## Here look for 3 digits, possibly separated by whitespace.\n",
        "  match = re.search(r'\\d\\s*\\d\\s*\\d', 'xx1 2   3xx') =>  found, match.group() == \"1 2   3\"\n",
        "  match = re.search(r'\\d\\s*\\d\\s*\\d', 'xx12  3xx') =>  found, match.group() == \"12  3\"\n",
        "  match = re.search(r'\\d\\s*\\d\\s*\\d', 'xx123xx') =>  found, match.group() == \"123\"\n",
        "\n",
        "  ## ^ = matches the start of string, so this fails:\n",
        "  match = re.search(r'^b\\w+', 'foobar') =>  not found, match == None\n",
        "  ## but without the ^ it succeeds:\n",
        "  match = re.search(r'b\\w+', 'foobar') =>  found, match.group() == \"bar\""
      ],
      "execution_count": 0,
      "outputs": []
    },
    {
      "cell_type": "markdown",
      "metadata": {
        "id": "K1qO5mM0UNh6",
        "colab_type": "text"
      },
      "source": [
        "Things get more interesting when you use + and * to specify repetition in the pattern\n",
        "\n",
        "      + -> 1 or more occurrences of the pattern to its left, e.g. 'i+' = one or more i's\n",
        "      * -> 0 or more occurrences of the pattern to its left\n",
        "      ? -> match 0 or 1 occurrences of the pattern to its left"
      ]
    },
    {
      "cell_type": "code",
      "metadata": {
        "id": "j2ZMyuBZUh0C",
        "colab_type": "code",
        "colab": {}
      },
      "source": [
        "#one or more i's, as many as possible.\n",
        "\n",
        "match = re.search(r'pi+', 'piiig') # =>  found, match.group() == \"piii\"\n",
        "if(match):\n",
        "  print (match.group())\n",
        "else:\n",
        "  print ('Match not found')\n"
      ],
      "execution_count": 0,
      "outputs": []
    },
    {
      "cell_type": "code",
      "metadata": {
        "id": "yL3sOOUagH5w",
        "colab_type": "code",
        "colab": {}
      },
      "source": [
        "# + - Checks for one or more characters to its left.\n",
        "\n",
        "import re\n",
        "match = re.search(r'Co+kie', 'Cooookie') # =>  found, match.group() == \"Cooookie\"\n",
        "if(match):\n",
        "  print (match.group())\n",
        "else:\n",
        "  print ('Match not found')"
      ],
      "execution_count": 0,
      "outputs": []
    },
    {
      "cell_type": "code",
      "metadata": {
        "id": "_PS8e1S-grKB",
        "colab_type": "code",
        "colab": {}
      },
      "source": [
        "# * - Checks for zero or more characters to its left.\n",
        "import re\n",
        "match = re.search(r'Ca*o*kie', 'Caokie') \n",
        "if(match):\n",
        "  print (match.group())\n",
        "else:\n",
        "  print ('Match not found')\n",
        "\n",
        "\n",
        "\n",
        "import re\n",
        "match = re.search(r'Ca*o*kie', 'Ckie') \n",
        "if(match):\n",
        "  print (match.group())\n",
        "else:\n",
        "  print ('Match not found')"
      ],
      "execution_count": 0,
      "outputs": []
    },
    {
      "cell_type": "code",
      "metadata": {
        "id": "bZIy5eYjg80E",
        "colab_type": "code",
        "colab": {}
      },
      "source": [
        "# * - Checks for zero or more characters to its left.\n",
        "import re\n",
        "match = re.search(r'Ca*o*kie', 'Ckie')  # because of * \n",
        "if(match):\n",
        "  print (match.group())\n",
        "else:\n",
        "  print ('Match not found')"
      ],
      "execution_count": 0,
      "outputs": []
    },
    {
      "cell_type": "code",
      "metadata": {
        "id": "sm0vbIo0hYeI",
        "colab_type": "code",
        "colab": {}
      },
      "source": [
        "# ? - Checks for exactly zero or one character to its left.\n",
        "import re\n",
        "match =re.search(r'Colou?r', 'Color')  # because of * \n",
        "if(match):\n",
        "  print (match.group())\n",
        "else:\n",
        "  print ('Match not found')"
      ],
      "execution_count": 0,
      "outputs": []
    },
    {
      "cell_type": "code",
      "metadata": {
        "id": "pEttDQhiinIk",
        "colab_type": "code",
        "colab": {}
      },
      "source": [
        "# ? - Checks for exactly zero or one character to its left.\n",
        "import re\n",
        "match =re.search(r'Colou?r', 'Colour')  # because of * \n",
        "if(match):\n",
        "  print (match.group())\n",
        "else:\n",
        "  print ('Match not found')"
      ],
      "execution_count": 0,
      "outputs": []
    },
    {
      "cell_type": "code",
      "metadata": {
        "id": "vIUSBFT_jBD-",
        "colab_type": "code",
        "colab": {}
      },
      "source": [
        "#{x} - Repeat exactly x number of times.\n",
        "\n",
        "#{x,} - Repeat at least x times or more.\n",
        "\n",
        "#{x, y} - Repeat at least x times but no more than y times.\n",
        "\n",
        "import re\n",
        "match = re.search(r'\\d{9,10}', '0987654321') # matches a number minimum 9 times and maximum 10 times.\n",
        "if(match):\n",
        "  print (match.group())\n",
        "else:\n",
        "  print ('Match not found')\n",
        "  \n",
        "  \n",
        "match = re.search(r'\\d{9,10}', '098765432123333') # matches a number minimum 9 times and maximum 10 times.\n",
        "if(match):\n",
        "  print (match.group())\n",
        "else:\n",
        "  print ('Match not found')  \n",
        "  \n",
        "match = re.search(r'\\d{9,10}', '09876') # matches a number minimum 9 times and maximum 10 times.\n",
        "if(match):\n",
        "  print (match.group())\n",
        "else:\n",
        "  print ('Match not found')  \n",
        "  "
      ],
      "execution_count": 0,
      "outputs": []
    },
    {
      "cell_type": "code",
      "metadata": {
        "id": "EuoiFruEhWn-",
        "colab_type": "code",
        "colab": {}
      },
      "source": [
        "  "
      ],
      "execution_count": 0,
      "outputs": []
    },
    {
      "cell_type": "code",
      "metadata": {
        "id": "V6z5fKsEhWe7",
        "colab_type": "code",
        "colab": {}
      },
      "source": [
        ""
      ],
      "execution_count": 0,
      "outputs": []
    },
    {
      "cell_type": "code",
      "metadata": {
        "id": "xR0CXFIWVard",
        "colab_type": "code",
        "colab": {}
      },
      "source": [
        "## Finds the first/leftmost solution, and within it drives the +\n",
        "## as far as possible (aka 'leftmost and largest').\n",
        "## In this example, note that it does not get to the second set of i's.\n",
        "\n",
        "match = re.search(r'i+', 'piiigiiii') # =>  found, match.group() == \"ii\"\n",
        "\n",
        "\n",
        "\n",
        "if(match):\n",
        "  print (match.group())\n",
        "else:\n",
        "  print ('Match not found')\n"
      ],
      "execution_count": 0,
      "outputs": []
    },
    {
      "cell_type": "code",
      "metadata": {
        "id": "u8jHkoB4VzRM",
        "colab_type": "code",
        "colab": {}
      },
      "source": [
        "## \\s* = zero or more whitespace chars\n",
        "## Here look for 3 digits, possibly separated by whitespace.\n",
        "\n",
        "match = re.search(r'\\d\\s*\\d\\s*\\d', 'xx1  2  3xx') # =>  found, match.group() == \"1 2   3\"\n",
        "if(match):\n",
        "  print (match.group())\n",
        "else:\n",
        "  print ('Match not found')\n"
      ],
      "execution_count": 0,
      "outputs": []
    },
    {
      "cell_type": "code",
      "metadata": {
        "id": "N48mG4y5WpJP",
        "colab_type": "code",
        "colab": {}
      },
      "source": [
        "# Important to note that * means zero also\n",
        "\n",
        "match = re.search(r'\\d\\s*\\d\\s*\\d', 'xx12  3xx') #=>  found, match.group() == \"12  3\"\n",
        "if(match):\n",
        "  print (match.group())\n",
        "else:\n",
        "  print ('Match not found')\n",
        "  \n"
      ],
      "execution_count": 0,
      "outputs": []
    },
    {
      "cell_type": "code",
      "metadata": {
        "id": "k675PsPGWxLJ",
        "colab_type": "code",
        "colab": {}
      },
      "source": [
        "match = re.search(r'\\d\\s*\\d\\s*\\d', 'xx123xx') # =>  found, match.group() == \"123\"\n",
        "if(match):\n",
        "  print (match.group())\n",
        "else:\n",
        "  print ('Match not found')\n",
        "\n",
        "  \n",
        "  \n",
        "  "
      ],
      "execution_count": 0,
      "outputs": []
    },
    {
      "cell_type": "code",
      "metadata": {
        "id": "nkmhY5GRJJu5",
        "colab_type": "code",
        "colab": {}
      },
      "source": [
        "match = re.search(r'^\\d', '123 is a text') # =>  found, match.group() == \"123\"\n",
        "if(match):\n",
        "  print (match.group())\n",
        "else:\n",
        "  print ('Match not found')\n"
      ],
      "execution_count": 0,
      "outputs": []
    },
    {
      "cell_type": "code",
      "metadata": {
        "id": "0DzU6JCsXN1T",
        "colab_type": "code",
        "colab": {}
      },
      "source": [
        "## ^ = matches the start of string, so this fails:\n",
        "match = re.search(r'^b\\w+', 'foobar') # =>  not found, match == None\n",
        "if(match):\n",
        "  print (match.group())\n",
        "else:\n",
        "  print ('Match not found')\n",
        "\n",
        "  \n",
        "## but without the ^ it succeeds:\n",
        "match = re.search(r'b\\w+', 'foobar') #=>  found, match.group() == \"bar\" \n",
        "\n",
        "if(match):\n",
        "  print (match.group())\n",
        "else:\n",
        "  print ('Match not found')\n",
        "\n"
      ],
      "execution_count": 0,
      "outputs": []
    },
    {
      "cell_type": "code",
      "metadata": {
        "id": "VX8BZ4V3ZBHZ",
        "colab_type": "code",
        "colab": {}
      },
      "source": [
        ""
      ],
      "execution_count": 0,
      "outputs": []
    },
    {
      "cell_type": "code",
      "metadata": {
        "id": "Bfe3XFmaWt6s",
        "colab_type": "code",
        "colab": {}
      },
      "source": [
        "  # Suppose you want to find the email address inside the string 'xyz alice-b@google.com purple monkey'. \n",
        "  # We'll use this as a running example to demonstrate more regular expression features. \n",
        "  # Here's an attempt using the pattern r'\\w+@\\w+\n",
        "  \n",
        "  \n",
        "  str = 'purple alice-b@google.com monkey dishwasher'\n",
        "  \n",
        "  match = re.search(r'\\w+@\\w+', str)\n",
        "  if match:\n",
        "    print (match.group())  ## 'b@google'"
      ],
      "execution_count": 0,
      "outputs": []
    },
    {
      "cell_type": "code",
      "metadata": {
        "id": "S0i4mWrNZwou",
        "colab_type": "code",
        "colab": {}
      },
      "source": [
        "# Square brackets can be used to indicate a set of chars, so [abc] matches 'a' or 'b' or 'c'. \n",
        "# The codes \\w, \\s etc. work inside square brackets too with the one exception that dot (.) just means a literal dot. \n",
        "# For the emails problem, the square brackets are an easy way to add '.' \n",
        "# and '-' to the set of chars which can appear around the @ \n",
        "# with the pattern r'[\\w.-]+@[\\w.-]+' to get the whole email address:\n",
        "\n",
        "\n",
        "str = 'purple alice-b@google.com monkey dishwasher'\n",
        "\n",
        "# Get all \\w character set or . or - and they can be multiple times. The same after ampersand.\n",
        "match = re.search(r'[\\w.-]+@[\\w.-]+', str)\n",
        "if match:\n",
        "    print (match.group())  ## 'alice-b@google.com'"
      ],
      "execution_count": 0,
      "outputs": []
    },
    {
      "cell_type": "code",
      "metadata": {
        "id": "PEkfglG_a4y8",
        "colab_type": "code",
        "colab": {}
      },
      "source": [
        "  # The \"group\" feature of a regular expression allows you to pick out parts of the matching text. \n",
        "  # Suppose for the emails problem that we want to extract the username and host separately. \n",
        "  # To do this, add parenthesis ( ) around the username and host in the pattern, like this: r'([\\w.-]+)@([\\w.-]+)'. \n",
        "  \n",
        "    \n",
        "  str = 'purple alice-b@google.com monkey dishwasher'\n",
        "  \n",
        "  \n",
        "  \n",
        "  match = re.search(r'([\\w.-]+)@([\\w.-]+)', str)\n",
        "  if match:\n",
        "    print (match.group())   ## 'alice-b@google.com' (the whole match)\n",
        "    print (match.group(1))  ## 'alice-b' (the username, group 1)\n",
        "    print (match.group(2))  ## 'google.com' (the host, group 2)\n",
        "    print (match.group(0))"
      ],
      "execution_count": 0,
      "outputs": []
    },
    {
      "cell_type": "code",
      "metadata": {
        "id": "ZtYgBNzr9VDZ",
        "colab_type": "code",
        "colab": {}
      },
      "source": [
        "import re\n",
        "# match, search,findall\n",
        "\n",
        "str = \"A Test program for RE Test\"\n",
        "\n",
        "mtch = re.match(r\"Test\",str)\n",
        "if mtch:\n",
        "  print(mtch.group())\n",
        "else:\n",
        "  print(\"mismatch\")\n",
        "\n",
        "srch = re.search(r\"Test\",str)\n",
        "if srch:\n",
        "  print(srch.group())\n",
        "else:\n",
        "  print(\"mismatch\")\n",
        "\n",
        "\n",
        "fndall = re.findall(r\"Test\",str)\n",
        "if fndall:\n",
        "  print(fndall)\n",
        "else:\n",
        "  print(\"no match\")"
      ],
      "execution_count": 0,
      "outputs": []
    },
    {
      "cell_type": "code",
      "metadata": {
        "id": "AEqukZY_b7M5",
        "colab_type": "code",
        "colab": {}
      },
      "source": [
        "#findall() is probably the single most powerful function in the re module.\n",
        "#Above we used re.search() to find the first match for a pattern. \n",
        "#findall() finds *all* the matches and returns them as a list of strings, with each string representing one match.\n",
        "\n",
        "\n",
        "## Suppose we have a text with many email addresses\n",
        "str = 'purple alice@google.com, blah monkey bob@abc.com blah dishwasher'\n",
        "\n",
        "## Here re.findall() returns a list of all the found email strings\n",
        "emails = re.findall(r'[\\w\\.-]+@[\\w\\.-]+', str) ## ['alice@google.com', 'bob@abc.com']\n",
        "for email in emails:\n",
        "  # do something with each found email string\n",
        "  print (email)"
      ],
      "execution_count": 0,
      "outputs": []
    },
    {
      "cell_type": "code",
      "metadata": {
        "id": "3yvFTXe-cyBX",
        "colab_type": "code",
        "colab": {}
      },
      "source": [
        "# For files, you may be in the habit of writing a loop to iterate over the lines of the file,\n",
        "#and you could then call findall() on each line. Instead, let findall() do the iteration for you -- much better! Just feed the whole file text into findall() and let it return a list of all the matches in a single step (recall that f.read() returns the whole text of a file in a single string):\n",
        "\n",
        "# Open file\n",
        "f = open('test.txt', 'r')\n",
        "  # Feed the file text into findall(); it returns a list of all the found strings\n",
        "strings = re.findall(r'some pattern', f.read())"
      ],
      "execution_count": 0,
      "outputs": []
    },
    {
      "cell_type": "code",
      "metadata": {
        "id": "aBG2md7QdADF",
        "colab_type": "code",
        "colab": {}
      },
      "source": [
        "# Findall and Groups\n",
        "\n",
        "str = 'purple alice@google.com, blah monkey bob@abc.com blah dishwasher'\n",
        "tuples = re.findall(r'([\\w\\.-]+)@([\\w\\.-]+)', str)            # There is the bracket.\n",
        "print (tuples)  ## [('alice', 'google.com'), ('bob', 'abc.com')]\n",
        "for tuple in tuples:\n",
        "  print (tuple[0])  ## username\n",
        "  print (tuple[1])  ## host"
      ],
      "execution_count": 0,
      "outputs": []
    },
    {
      "cell_type": "code",
      "metadata": {
        "id": "INc2g-YqdoWV",
        "colab_type": "code",
        "colab": {}
      },
      "source": [
        "# Substitution\n",
        "str = 'purple alice@google.com, blah monkey bob@abc.com blah dishwasher'\n",
        "## re.sub(pat, replacement, str) -- returns new string with all replacements,\n",
        "## \\1 is group(1), \\2 group(2) in the replacement\n",
        "print (re.sub(r'([\\w\\.-]+)@([\\w\\.-]+)', r'\\1@yo-yo-dyne.com', str))"
      ],
      "execution_count": 0,
      "outputs": []
    },
    {
      "cell_type": "code",
      "metadata": {
        "id": "wCFCqDCmUFpA",
        "colab_type": "code",
        "colab": {}
      },
      "source": [
        "\n"
      ],
      "execution_count": 0,
      "outputs": []
    },
    {
      "cell_type": "code",
      "metadata": {
        "id": "GVejlwOHqTjS",
        "colab_type": "code",
        "colab": {}
      },
      "source": [
        "#start([group])\n",
        "#end([group])\n",
        "#Return the indices of the start and end of the substring matched by group; group defaults to zero (meaning the whole matched substring). \n",
        "\n",
        "import re\n",
        "\n",
        "email = \"tony@tiremove_thisger.net\"\n",
        "m = re.search(\"remove_this\", email)\n",
        "print (email[:m.start()] + email[m.end():])\n"
      ],
      "execution_count": 0,
      "outputs": []
    },
    {
      "cell_type": "code",
      "metadata": {
        "id": "KfvBOhtyIu8o",
        "colab_type": "code",
        "colab": {}
      },
      "source": [
        "#Greedy vs Non-Greedy Matching\n",
        "#When a special character matches as much of the search sequence (string) as possible, it is said to be a \"Greedy Match\". \n",
        "# It the normal behavior of a regular expression but sometimes this behavior is not desired:\n",
        "\n",
        "pattern = \"cookie\"\n",
        "sequence = \"Cake and cookie\"\n",
        "\n",
        "heading  = r'<h1>TITLE</h1>'\n",
        "print(re.match(r'<.*>', heading).group())\n",
        "\n",
        "print(re.match(r'<.*?>', heading).group())"
      ],
      "execution_count": 0,
      "outputs": []
    },
    {
      "cell_type": "code",
      "metadata": {
        "id": "mTUhQP_jxOMT",
        "colab_type": "code",
        "colab": {}
      },
      "source": [
        "import re\n",
        "import requests\n",
        "the_idiot_url = 'https://www.gutenberg.org/files/2638/2638-0.txt'\n",
        "\n",
        "def get_book(url):\n",
        "    # Sends a http request to get the text from project Gutenberg\n",
        "    raw = requests.get(url).text\n",
        "    # Discards the metadata from the beginning of the book\n",
        "    start = re.search(r\"\\*\\*\\* START OF THIS PROJECT GUTENBERG EBOOK .* \\*\\*\\*\",raw ).end()\n",
        "    # Discards the metadata from the end of the book\n",
        "    stop = re.search(r\"II\", raw).start()\n",
        "    # Keeps the relevant text\n",
        "    text = raw[start:stop]\n",
        "    return text\n",
        "\n",
        "def preprocess(sentence): \n",
        "    return re.sub('[^A-Za-z0-9.]+' , ' ', sentence).lower()\n",
        "\n",
        "book = get_book(the_idiot_url)\n",
        "processed_book = preprocess(book)\n",
        "print(processed_book)"
      ],
      "execution_count": 0,
      "outputs": []
    },
    {
      "cell_type": "code",
      "metadata": {
        "id": "t60rPmSfyrga",
        "colab_type": "code",
        "colab": {}
      },
      "source": [
        "#Find the number of the pronoun \"the\" in the corpus\n",
        "len(re.findall(r'the', processed_book))"
      ],
      "execution_count": 0,
      "outputs": []
    },
    {
      "cell_type": "code",
      "metadata": {
        "id": "Px23edpIy1dZ",
        "colab_type": "code",
        "colab": {}
      },
      "source": [
        "#Try to convert every single stand-alone instance of 'i' to 'I' in the corpus. Make sure not to change the 'i' occuring in a word:\n",
        "\n",
        "processed_book = re.sub(r'\\si\\s', \" I \", processed_book)\n",
        "print(processed_book)"
      ],
      "execution_count": 0,
      "outputs": []
    },
    {
      "cell_type": "code",
      "metadata": {
        "id": "LenUW6fszFKS",
        "colab_type": "code",
        "colab": {}
      },
      "source": [
        "#What are the words connected by '--' in the corpus?\n",
        "\n",
        "print (re.findall(r'[a-zA-Z0-9]*--[a-zA-Z0-9]*', book))"
      ],
      "execution_count": 0,
      "outputs": []
    },
    {
      "cell_type": "code",
      "metadata": {
        "id": "rbNQXxcR1XZB",
        "colab_type": "code",
        "colab": {}
      },
      "source": [
        "text = \"\"\"Ross McFluff: 834.345.1254 155 Elm Street\n",
        "\n",
        "Ronald Heathmore: 892.345.3428  436 Finley Avenue\n",
        "\n",
        "Frank Burger: 925.541.7625 662 South Dogwood Way\n",
        "\n",
        "Heather Albrecht: 548.326.4584 919 Park Place\"\"\"\n",
        "\n",
        "entries = re.split(\"\\n+\", text)\n",
        "print(entries)\n",
        "\n",
        "print('\\n')\n",
        "\n",
        "[re.split(\":? \", entry, 3) for entry in entries]"
      ],
      "execution_count": 0,
      "outputs": []
    },
    {
      "cell_type": "markdown",
      "metadata": {
        "id": "ziZcg1zYIwsj",
        "colab_type": "text"
      },
      "source": [
        "# Executing Shell Commands Python"
      ]
    },
    {
      "cell_type": "code",
      "metadata": {
        "id": "qcZ4VPI4I16f",
        "colab_type": "code",
        "colab": {}
      },
      "source": [
        "import os\n",
        "\n",
        "cmd = \"Dir \"\n",
        "\n",
        "returned_value = os.system(cmd)  # returns the exit code in unix\n",
        "\n",
        "print (type(returned_value))\n",
        "print('returned value:', returned_value)\n"
      ],
      "execution_count": 0,
      "outputs": []
    },
    {
      "cell_type": "code",
      "metadata": {
        "id": "n1FYLVkuJ2CQ",
        "colab_type": "code",
        "colab": {}
      },
      "source": [
        "import subprocess\n",
        "\n",
        "cmd = \"Dir\"\n",
        "\n",
        "returned_value = subprocess.call(cmd, shell=True)  # returns the exit code in unix\n",
        "print (type(returned_value))\n",
        "print('returned value:', returned_value)"
      ],
      "execution_count": 0,
      "outputs": []
    },
    {
      "cell_type": "code",
      "metadata": {
        "id": "njULow47LXAv",
        "colab_type": "code",
        "colab": {}
      },
      "source": [
        ""
      ],
      "execution_count": 0,
      "outputs": []
    },
    {
      "cell_type": "code",
      "metadata": {
        "id": "c4-z5rMtLWhw",
        "colab_type": "code",
        "colab": {}
      },
      "source": [
        "import subprocess\n",
        "\n",
        "\n",
        "cmd = \"Dir *.*\"\n",
        "\n",
        "# returns output as byte string\n",
        "returned_output = subprocess.check_output([\"Dir\",\"*.*\"],shell=True)\n",
        "\n",
        "# using decode() function to convert byte string to string\n",
        "print(type(returned_output))\n",
        "print(type(returned_output.decode(\"utf-8\")))\n",
        "print('Returned Output is:', returned_output.decode(\"utf-8\"))"
      ],
      "execution_count": 0,
      "outputs": []
    },
    {
      "cell_type": "code",
      "metadata": {
        "id": "ZilxfgLlRkx1",
        "colab_type": "code",
        "colab": {}
      },
      "source": [
        ""
      ],
      "execution_count": 0,
      "outputs": []
    },
    {
      "cell_type": "code",
      "metadata": {
        "id": "4oR24hISRrR1",
        "colab_type": "code",
        "colab": {}
      },
      "source": [
        "s=\"123\"\n",
        "print(s[0])\n",
        "\n",
        "\n",
        "s[0] ='x'\n"
      ],
      "execution_count": 0,
      "outputs": []
    },
    {
      "cell_type": "code",
      "metadata": {
        "id": "D0b1_LJYw_yh",
        "colab_type": "code",
        "colab": {}
      },
      "source": [
        "import sys\n",
        "\n",
        "def main():\n",
        "    # print command line arguments\n",
        "    print (type(sys.argv))\n",
        "    for arg in sys.argv[1:]:\n",
        "        print (arg, type(arg))\n",
        "\n",
        "if __name__ == \"__main__\":\n",
        "    main()"
      ],
      "execution_count": 0,
      "outputs": []
    },
    {
      "cell_type": "code",
      "metadata": {
        "id": "0i_DtVRaBnbG",
        "colab_type": "code",
        "colab": {}
      },
      "source": [
        "import sqlite3\n",
        "\n",
        "conn = sqlite3.connect(':memory:')\n",
        "print (\"Opened database successfully\")\n",
        "\n",
        "\n",
        "\n",
        "conn.execute('''CREATE TABLE COMPANY\n",
        "         (ID INT PRIMARY KEY     NOT NULL,\n",
        "         NAME           TEXT    NOT NULL,\n",
        "         AGE            INT     NOT NULL,\n",
        "         ADDRESS        CHAR(50),\n",
        "         SALARY         REAL);''')\n",
        "\n",
        "print (\"Table created successfully\");\n",
        "\n",
        "\n",
        "conn.execute(\"INSERT INTO COMPANY (ID,NAME,AGE,ADDRESS,SALARY) \\\n",
        "      VALUES (1, 'Paul', 32, 'California', 20000.00 )\");\n",
        "\n",
        "conn.execute(\"INSERT INTO COMPANY (ID,NAME,AGE,ADDRESS,SALARY) \\\n",
        "      VALUES (2, 'Allen', 25, 'Texas', 15000.00 )\");\n",
        "\n",
        "conn.execute(\"INSERT INTO COMPANY (ID,NAME,AGE,ADDRESS,SALARY) \\\n",
        "      VALUES (3, 'Teddy', 23, 'Norway', 20000.00 )\");\n",
        "\n",
        "conn.execute(\"INSERT INTO COMPANY (ID,NAME,AGE,ADDRESS,SALARY) \\\n",
        "      VALUES (4, 'Mark', 25, 'Rich-Mond ', 65000.00 )\");\n",
        "\n",
        "conn.commit()\n",
        "print (\"Records created successfully\");\n",
        "\n",
        "\n",
        "cursor = conn.execute(\"SELECT id, name, address, salary from COMPANY\")\n",
        "for row in cursor:\n",
        "   print(\"ID = \", row[0])\n",
        "   print(\"NAME = \", row[1])\n",
        "   print (\"ADDRESS = \", row[2])\n",
        "   print (\"SALARY = \", row[3], \"\\n\")\n",
        "\n",
        "print (\"Operation done successfully\");\n",
        "conn.close()"
      ],
      "execution_count": 0,
      "outputs": []
    },
    {
      "cell_type": "code",
      "metadata": {
        "id": "aleP22g-brl7",
        "colab_type": "code",
        "colab": {}
      },
      "source": [
        "# This will not work. We will have to use outside in conda  environment\n",
        "\n",
        "# will need to install ipywidgets\n",
        "# !pip install ipywidgets\n",
        "\n",
        "import ipywidgets as widgets\n",
        "from ipywidgets import HBox, VBox\n",
        "import numpy as np\n",
        "import matplotlib.pyplot as plt\n",
        "from IPython.display import display\n",
        "%matplotlib inline\n",
        "\n",
        "@widgets.interact_manual(\n",
        "    color=['blue', 'red', 'green'], lw=(1., 10.))\n",
        "def plot(freq=1., color='blue', lw=2, grid=True):\n",
        "    t = np.linspace(-1., +1., 1000)\n",
        "    fig, ax = plt.subplots(1, 1, figsize=(8, 6))\n",
        "    ax.plot(t, np.sin(2 * np.pi * freq * t),\n",
        "            lw=lw, color=color)\n",
        "    ax.grid(grid)\n",
        "\n",
        "    \n",
        "    "
      ],
      "execution_count": 0,
      "outputs": []
    },
    {
      "cell_type": "code",
      "metadata": {
        "id": "kps7dQBzdrPW",
        "colab_type": "code",
        "colab": {}
      },
      "source": [
        "# This will not work. We will have to use outside in conda  environment\n",
        "\n",
        "# will need to install ipywidgets\n",
        "# !pip install ipywidgets\n",
        "\n",
        "\n",
        "freq_slider = widgets.FloatSlider(\n",
        "    value=2.,\n",
        "    min=1.,\n",
        "    max=10.0,\n",
        "    step=0.1,\n",
        "    description='Frequency:',\n",
        "    readout_format='.1f',\n",
        ")\n",
        "#freq_slider\n",
        "\n",
        "\n",
        "range_slider = widgets.FloatRangeSlider(\n",
        "    value=[-1., +1.],\n",
        "    min=-5., max=+5., step=0.1,\n",
        "    description='xlim:',\n",
        "    readout_format='.1f',\n",
        ")\n",
        "#range_slider\n",
        "\n",
        "\n",
        "grid_button = widgets.ToggleButton(\n",
        "    value=False,\n",
        "    description='Grid',\n",
        "    icon='check'\n",
        ")\n",
        "#grid_button\n",
        "\n",
        "color_buttons = widgets.ToggleButtons(\n",
        "    options=['blue', 'red', 'green'],\n",
        "    description='Color:',\n",
        ")\n",
        "#color_buttons\n",
        "\n",
        "title_textbox = widgets.Text(\n",
        "    value='Hello World',\n",
        "    description='Title:',\n",
        ")\n",
        "#title_textbox\n",
        "\n",
        "\n",
        "color_picker = widgets.ColorPicker(\n",
        "    concise=True,\n",
        "    description='Background color:',\n",
        "    value='#efefef',\n",
        ")\n",
        "#color_picker\n",
        "\n",
        "button = widgets.Button(\n",
        "    description='Plot',\n",
        ")\n",
        "\n",
        "\n",
        "\n",
        "def on_button_clicked(b):\n",
        "    print(\"Button clicked.\")\n",
        "    plot2(b)\n",
        "\n",
        "button.on_click(on_button_clicked)\n",
        "\n",
        "#button.on_click(plot2())\n",
        "\n",
        "#button\n",
        "#@button.on_click\n",
        "#def plot_on_click(b):\n",
        "#    plot2()\n",
        "    \n",
        "\n",
        "def plot2(b=None):\n",
        "    print ('Hello')\n",
        "    xlim = range_slider.value\n",
        "    freq = freq_slider.value\n",
        "    grid = grid_button.value\n",
        "    color = color_buttons.value\n",
        "    title = title_textbox.value\n",
        "    bgcolor = color_picker.value\n",
        "\n",
        "    t = np.linspace(xlim[0], xlim[1], 1000)\n",
        "    f, ax = plt.subplots(1, 1, figsize=(8, 6))\n",
        "    ax.plot(t, np.sin(2 * np.pi * freq * t),\n",
        "            color=color)\n",
        "    ax.grid(grid)\n",
        "    \n",
        "\n",
        "    \n",
        "tab1 = VBox(children=[freq_slider,\n",
        "                      range_slider,\n",
        "                      ])\n",
        "tab2 = VBox(children=[color_buttons,\n",
        "                      HBox(children=[title_textbox,\n",
        "                                     color_picker,\n",
        "                                     grid_button]),\n",
        "                                     ])\n",
        "tab = widgets.Tab(children=[tab1, tab2])\n",
        "tab.set_title(0, 'plot')\n",
        "tab.set_title(1, 'styling')\n",
        "VBox(children=[tab, button])"
      ],
      "execution_count": 0,
      "outputs": []
    },
    {
      "cell_type": "code",
      "metadata": {
        "id": "WWP2fgCvlWmZ",
        "colab_type": "code",
        "colab": {}
      },
      "source": [
        "#https://github.com/timeline.json\n",
        "\n",
        "\n",
        "import requests \n",
        "\n",
        "r = requests.get('https://github.com/timeline.json')\n",
        "print (r.json)"
      ],
      "execution_count": 0,
      "outputs": []
    },
    {
      "cell_type": "code",
      "metadata": {
        "id": "1Bee8sM-FoLa",
        "colab_type": "code",
        "colab": {}
      },
      "source": [
        "string = \"0000011111100001111111000111111111110000000000000001111\"\n",
        "l1 = []\n",
        "newstr = \"\"\n",
        "for i in range(0, len(string) - 1):\n",
        "    if string[i] == string[i + 1]:\n",
        "        newstr += string[i]\n",
        "    else:\n",
        "        if newstr != \"\" and len(newstr) > 1:\n",
        "            newstr += string[i - 1]\n",
        "            l1.append(newstr)\n",
        "        newstr = \"\"\n",
        "\n",
        "for i in l1:\n",
        "    print(i, len(i))"
      ],
      "execution_count": 0,
      "outputs": []
    },
    {
      "cell_type": "code",
      "metadata": {
        "id": "cxtgQGVrjUXm",
        "colab_type": "code",
        "colab": {}
      },
      "source": [
        ""
      ],
      "execution_count": 0,
      "outputs": []
    },
    {
      "cell_type": "code",
      "metadata": {
        "id": "t5r75jHFdLj9",
        "colab_type": "code",
        "colab": {}
      },
      "source": [
        ""
      ],
      "execution_count": 0,
      "outputs": []
    },
    {
      "cell_type": "markdown",
      "metadata": {
        "id": "InjTZiCzdMP-",
        "colab_type": "text"
      },
      "source": [
        "# Advanced Sorting\n",
        "\n",
        "https://www.afternerd.com/blog/python-sort-list/#sort-tuples"
      ]
    },
    {
      "cell_type": "code",
      "metadata": {
        "id": "JOCuNkVtdZJ4",
        "colab_type": "code",
        "outputId": "0b974ac4-321e-436c-fc32-fdd2d0052034",
        "colab": {
          "base_uri": "https://localhost:8080/",
          "height": 51
        }
      },
      "source": [
        "l = [17, 5, 12, 1, 14]\n",
        "l.sort()   # The existing list is sorted in place. No new list is created\n",
        "\n",
        "print(l)\n",
        "\n",
        "l = [17, 5, 12, 1, 14]\n",
        "l.sort(reverse=True)  #sorting in reverse\n",
        "print(l)\n"
      ],
      "execution_count": 0,
      "outputs": [
        {
          "output_type": "stream",
          "text": [
            "[1, 5, 12, 14, 17]\n",
            "[17, 14, 12, 5, 1]\n"
          ],
          "name": "stdout"
        }
      ]
    },
    {
      "cell_type": "code",
      "metadata": {
        "id": "UwhG2AJadyji",
        "colab_type": "code",
        "outputId": "785785e8-ed62-4cb7-8f03-715af216b5d0",
        "colab": {
          "base_uri": "https://localhost:8080/",
          "height": 51
        }
      },
      "source": [
        "l = [17, 5, 12, 1, 14]\n",
        "new_list = sorted(l)  # a new list is created\n",
        "print(new_list)\n",
        "\n",
        "\n",
        "l = [17, 5, 12, 1, 14]\n",
        "new_list = sorted(l, reverse = True)  # a new sorted list is created in reverse\n",
        "print(new_list)\n"
      ],
      "execution_count": 0,
      "outputs": [
        {
          "output_type": "stream",
          "text": [
            "[1, 5, 12, 14, 17]\n",
            "[17, 14, 12, 5, 1]\n"
          ],
          "name": "stdout"
        }
      ]
    },
    {
      "cell_type": "code",
      "metadata": {
        "id": "IoNePz0se4tH",
        "colab_type": "code",
        "outputId": "cb6cfd8c-1748-464b-a5b7-dae67c3c7f43",
        "colab": {
          "base_uri": "https://localhost:8080/",
          "height": 51
        }
      },
      "source": [
        "l = [\"oranges\", \"apples\", \"Bananas\"]\n",
        "l.sort()\n",
        "\n",
        "print(l)  # Banans come first as Python treats upper case to be lower.\n",
        "\n",
        "\n",
        "\n",
        "l = [\"oranges\", \"apples\", \"Bananas\"]\n",
        "l.sort(key=str.lower)\n",
        "\n",
        "print(l)\n",
        "\n"
      ],
      "execution_count": 0,
      "outputs": [
        {
          "output_type": "stream",
          "text": [
            "['Bananas', 'apples', 'oranges']\n",
            "['apples', 'Bananas', 'oranges']\n"
          ],
          "name": "stdout"
        }
      ]
    },
    {
      "cell_type": "code",
      "metadata": {
        "id": "WHBvzJNQidGl",
        "colab_type": "code",
        "colab": {}
      },
      "source": [
        "def custom_sort(t):\n",
        "    return t[1]\n",
        "\n",
        "L = [(\"Alice\", 25), (\"Bob\", 20), (\"Alex\", 5)]\n",
        "L.sort(key=custom_sort)\n",
        "print(L)"
      ],
      "execution_count": 0,
      "outputs": []
    },
    {
      "cell_type": "code",
      "metadata": {
        "id": "TjnX_xEziqPG",
        "colab_type": "code",
        "colab": {}
      },
      "source": [
        "L = [(\"Alice\", 25), (\"Bob\", 20), (\"Alex\", 5)]\n",
        "L.sort(key=lambda x: x[1])   # Using Lamdas\n",
        "print(L)"
      ],
      "execution_count": 0,
      "outputs": []
    },
    {
      "cell_type": "code",
      "metadata": {
        "id": "9eKlYjzse4jm",
        "colab_type": "code",
        "colab": {}
      },
      "source": [
        ""
      ],
      "execution_count": 0,
      "outputs": []
    },
    {
      "cell_type": "code",
      "metadata": {
        "id": "SO8BDvIHi457",
        "colab_type": "code",
        "outputId": "0b89f605-6957-4795-ef6a-5e334307eecc",
        "colab": {
          "base_uri": "https://localhost:8080/",
          "height": 51
        }
      },
      "source": [
        "# Sorting user define objects\n",
        "\n",
        "class User:\n",
        "    def __init__(self, name, age):\n",
        "        self.name = name\n",
        "        self.age = age\n",
        "        \n",
        "        \n",
        "Bob = User('Bob', 20)\n",
        "Alice = User('Alice', 30)\n",
        "Leo = User('Leo', 15)\n",
        "L = [Bob, Alice, Leo]\n",
        "\n",
        "\n",
        "\n",
        "L.sort(key=lambda x: x.name)\n",
        "print([item.name for item in L])\n",
        "\n",
        "\n",
        "L.sort(key=lambda x: x.age)\n",
        "print([item.name for item in L])"
      ],
      "execution_count": 0,
      "outputs": [
        {
          "output_type": "stream",
          "text": [
            "['Alice', 'Bob', 'Leo']\n",
            "['Leo', 'Bob', 'Alice']\n"
          ],
          "name": "stdout"
        }
      ]
    },
    {
      "cell_type": "markdown",
      "metadata": {
        "id": "KYqywMSWdpnj",
        "colab_type": "text"
      },
      "source": [
        "# Functional Programming\n",
        "\n",
        "https://kite.com/blog/python/functional-programming/"
      ]
    },
    {
      "cell_type": "code",
      "metadata": {
        "id": "59pZ2siOdusm",
        "colab_type": "code",
        "outputId": "71f49043-2593-4008-e566-02a74d92c519",
        "colab": {
          "base_uri": "https://localhost:8080/",
          "height": 34
        }
      },
      "source": [
        "addition = lambda a, b: a + b\n",
        "print(addition(3, 4))"
      ],
      "execution_count": 0,
      "outputs": [
        {
          "output_type": "stream",
          "text": [
            "7\n"
          ],
          "name": "stdout"
        }
      ]
    },
    {
      "cell_type": "code",
      "metadata": {
        "id": "fxX4la82d8nR",
        "colab_type": "code",
        "colab": {}
      },
      "source": [
        "authors = ['Octavia Butler', 'Isaac Asimov', 'Neal Stephenson', 'Margaret Atwood', 'Usula K Le Guin', 'Ray Bradbury']\n",
        "sorted(authors, key=len)  # Returns list ordered by length of author name\n",
        "sorted(authors, key=lambda name: name.split()[-1])  # Returns list ordered alphabetically by last name."
      ],
      "execution_count": 0,
      "outputs": []
    },
    {
      "cell_type": "code",
      "metadata": {
        "id": "BVo2WKQQef9c",
        "colab_type": "code",
        "outputId": "85fcea37-d994-460e-fd96-b641fb12009d",
        "colab": {
          "base_uri": "https://localhost:8080/",
          "height": 34
        }
      },
      "source": [
        "val = [1, 2, 3, 4, 5, 6]\n",
        "\n",
        "# Multiply every item by two\n",
        "print(list(map(lambda x: x * 2, val))) # [2, 4, 6, 8, 10, 12]"
      ],
      "execution_count": 0,
      "outputs": [
        {
          "output_type": "stream",
          "text": [
            "[2, 4, 6, 8, 10, 12]\n"
          ],
          "name": "stdout"
        }
      ]
    },
    {
      "cell_type": "code",
      "metadata": {
        "id": "lVjAoIpOfl0t",
        "colab_type": "code",
        "colab": {}
      },
      "source": [
        " list(map(int, [\"1\", \"2\", \"3\"])) # converts every string to an int"
      ],
      "execution_count": 0,
      "outputs": []
    },
    {
      "cell_type": "code",
      "metadata": {
        "id": "0U0iULOKgPNf",
        "colab_type": "code",
        "outputId": "f3a01453-7733-4885-f745-dae7670e6a1c",
        "colab": {
          "base_uri": "https://localhost:8080/",
          "height": 84
        }
      },
      "source": [
        "def func1():\n",
        "    print(\"From one\")\n",
        "\n",
        "def func2():\n",
        "    print(\"From two\")\n",
        "\n",
        "def func3():\n",
        "    print(\"From three\")\n",
        "\n",
        "executing = lambda f: f()\n",
        "list(map(executing, [func1, func2, func3]))"
      ],
      "execution_count": 0,
      "outputs": [
        {
          "output_type": "stream",
          "text": [
            "From one\n",
            "From two\n",
            "From three\n"
          ],
          "name": "stdout"
        },
        {
          "output_type": "execute_result",
          "data": {
            "text/plain": [
              "[None, None, None]"
            ]
          },
          "metadata": {
            "tags": []
          },
          "execution_count": 6
        }
      ]
    },
    {
      "cell_type": "code",
      "metadata": {
        "id": "me1yAkBoe5gg",
        "colab_type": "code",
        "colab": {}
      },
      "source": [
        "val = [1, 2, 3, 4, 5, 6]\n",
        "\n",
        "# Multiply every item by two\n",
        "reduce(lambda: x, y: x * y, val, 1) # 1 * 1 * 2 * 3 * 4 * 5 * 6\n"
      ],
      "execution_count": 0,
      "outputs": []
    },
    {
      "cell_type": "code",
      "metadata": {
        "id": "G-npdVQJmR2e",
        "colab_type": "code",
        "colab": {}
      },
      "source": [
        "numbers = [13, 4, 18, 35]\n",
        "div_by_5 = filter(lambda num: num % 5 == 0, numbers)\n",
        "\n",
        "# We can convert the iterator into a list\n",
        "print(list(div_by_5)) "
      ],
      "execution_count": 0,
      "outputs": []
    },
    {
      "cell_type": "code",
      "metadata": {
        "id": "GDtQtwr9mgXM",
        "colab_type": "code",
        "outputId": "7c9d1203-88e8-4d00-dfc8-8c87cb75ec5b",
        "colab": {
          "base_uri": "https://localhost:8080/",
          "height": 34
        }
      },
      "source": [
        " # Filtering age > 50\n",
        "    \n",
        " data = [\n",
        "         {\"name\": \"vishal\", \"age\":50},\n",
        "         {\"name\": \"Rashmi\", \"age\":30}   \n",
        "       ]\n",
        "\n",
        "age_greater_than_40 = filter( lambda item: item[\"age\"]>40, data)\n",
        "\n",
        "print(list(age_greater_than_40))\n"
      ],
      "execution_count": 0,
      "outputs": [
        {
          "output_type": "stream",
          "text": [
            "[{'name': 'vishal', 'age': 50}]\n"
          ],
          "name": "stdout"
        }
      ]
    },
    {
      "cell_type": "code",
      "metadata": {
        "id": "zmraZO7bsR45",
        "colab_type": "code",
        "outputId": "bbfc0ebb-48d3-4b70-bc68-fa672074f08c",
        "colab": {
          "base_uri": "https://localhost:8080/",
          "height": 101
        }
      },
      "source": [
        "import itertools\n",
        "import operator\n",
        "\n",
        "data = [1, 2, 3, 4, 5]\n",
        "result = itertools.accumulate(data, operator.mul)\n",
        "for each in result:\n",
        "    print(each)"
      ],
      "execution_count": 0,
      "outputs": [
        {
          "output_type": "stream",
          "text": [
            "1\n",
            "2\n",
            "6\n",
            "24\n",
            "120\n"
          ],
          "name": "stdout"
        }
      ]
    },
    {
      "cell_type": "code",
      "metadata": {
        "id": "A1JoZjtyshLr",
        "colab_type": "code",
        "outputId": "0a775945-03c1-415f-fa23-7e7b9060d6aa",
        "colab": {
          "base_uri": "https://localhost:8080/",
          "height": 101
        }
      },
      "source": [
        "import itertools\n",
        "import operator\n",
        "\n",
        "data = [1, 2, 3, 4, 5]\n",
        "result = itertools.accumulate(data, max)\n",
        "for each in result:\n",
        "    print(each)"
      ],
      "execution_count": 0,
      "outputs": [
        {
          "output_type": "stream",
          "text": [
            "1\n",
            "2\n",
            "3\n",
            "4\n",
            "5\n"
          ],
          "name": "stdout"
        }
      ]
    }
  ]
}